{
  "nbformat": 4,
  "nbformat_minor": 0,
  "metadata": {
    "colab": {
      "provenance": [],
      "gpuType": "V100",
      "authorship_tag": "ABX9TyPrjf4N3oMQsqAxjAmx62sM",
      "include_colab_link": true
    },
    "kernelspec": {
      "name": "python3",
      "display_name": "Python 3"
    },
    "language_info": {
      "name": "python"
    },
    "accelerator": "GPU"
  },
  "cells": [
    {
      "cell_type": "markdown",
      "metadata": {
        "id": "view-in-github",
        "colab_type": "text"
      },
      "source": [
        "<a href=\"https://colab.research.google.com/github/cadenzonnefeld/NaturalDisasterTweetClassification/blob/main/DisasterTweets.ipynb\" target=\"_parent\"><img src=\"https://colab.research.google.com/assets/colab-badge.svg\" alt=\"Open In Colab\"/></a>"
      ]
    },
    {
      "cell_type": "markdown",
      "source": [
        "# **Natural Language Processign with Disaster Tweets Kaggle Competition**\n",
        "\n",
        "The goal of this challenge is to use tweets provided that offer text describing weather events that may lead to disaster. Twitter offers nearly instantaneous updates from many in the general public and there is potential for valuable information to be gleaned from how users describe the weather phenomena they are encountering.\n",
        "\n",
        "\\\\\n",
        "In this notebook, we will create a NLP solution that processes the sentiment and content of several thousand tweets. The aim of the NLP is to identify classify if the text of a tweet is referring to real weather disaster. Once we have arrived at a satisfactory solution, we will score the test data and submit the holdout predictions to the Kaggle competition to evaluate the quality of our predictions.\n",
        "\n",
        "\\\\\n",
        "The evaluation metric for the quality of predictions is F1 Score which is defined as:\n",
        "\n",
        "$F_{1} = 2*\\frac{precision * recall}{precision + recall}$\n",
        "\n",
        "Where $precision = \\frac{TP}{TP + FP}$ and $recall = \\frac{TP}{TP+FN}$\n",
        "\n",
        "F1 Score is a popular metric for binary classification since it calculates class-wise performance instead of overall performance which is captured by a measure like accuracy. The F1 Score combines precision and recall which allows for evaluation of a model's predictive capacity regardless of class baance.\n",
        "\n",
        "\\\\\n",
        "The primary technique we will use to tackle this classification problem is a Recurrent Neural Network (RNN). RNNs have the benefit of maintaining information over time which proves useful for sequential problems."
      ],
      "metadata": {
        "id": "0yUsaGWeLrPd"
      }
    },
    {
      "cell_type": "markdown",
      "source": [
        "### Package Import"
      ],
      "metadata": {
        "id": "Du6JKnySPdwr"
      }
    },
    {
      "cell_type": "code",
      "execution_count": 1,
      "metadata": {
        "id": "Oiyux5SFHfRr"
      },
      "outputs": [],
      "source": [
        "import os\n",
        "import tensorflow\n",
        "\n",
        "import pandas as pd\n",
        "import numpy as np\n",
        "import matplotlib.pyplot as plt\n",
        "\n",
        "from google.colab import drive, files\n",
        "from sklearn.feature_extraction.text import TfidfVectorizer\n",
        "from sklearn.model_selection import train_test_split\n",
        "from tensorflow.keras.models import Sequential\n",
        "from tensorflow.keras.layers import Dense, LSTM, GRU"
      ]
    },
    {
      "cell_type": "code",
      "source": [
        "drive.mount('/content/drive')"
      ],
      "metadata": {
        "colab": {
          "base_uri": "https://localhost:8080/"
        },
        "id": "5LWmm_hBIReK",
        "outputId": "49fc9112-4be0-436a-dae7-d78d7e6ead5e"
      },
      "execution_count": 2,
      "outputs": [
        {
          "output_type": "stream",
          "name": "stdout",
          "text": [
            "Drive already mounted at /content/drive; to attempt to forcibly remount, call drive.mount(\"/content/drive\", force_remount=True).\n"
          ]
        }
      ]
    },
    {
      "cell_type": "markdown",
      "source": [
        "### Data Loading and Exploration"
      ],
      "metadata": {
        "id": "EwiycMSjRMba"
      }
    },
    {
      "cell_type": "markdown",
      "source": [
        "The train data consists of 7,613 tweets that have the following features: ID, keyword, loctation, text (main body of tweet), and target. Few of the tweets have a keyword or location. There are 61 tweets with a missing keyword and 2533 (about 1/3) with a missing location.\n",
        "\n",
        "---\n",
        "\n"
      ],
      "metadata": {
        "id": "x0NtkzzfQPxJ"
      }
    },
    {
      "cell_type": "code",
      "source": [
        "train = pd.read_csv('drive/MyDrive/Colab Notebooks/DisasterTweets/train.csv')\n",
        "print(\"Train Data Shape:\", train.shape)\n",
        "print(\"Train Data Example:\")\n",
        "train.head()"
      ],
      "metadata": {
        "colab": {
          "base_uri": "https://localhost:8080/",
          "height": 241
        },
        "id": "lqZ2yHXiHp8K",
        "outputId": "9d03591d-0098-4bf0-fae9-2d8f1c95d167"
      },
      "execution_count": 3,
      "outputs": [
        {
          "output_type": "stream",
          "name": "stdout",
          "text": [
            "Train Data Shape: (7613, 5)\n",
            "Train Data Example:\n"
          ]
        },
        {
          "output_type": "execute_result",
          "data": {
            "text/plain": [
              "   id keyword location                                               text  \\\n",
              "0   1     NaN      NaN  Our Deeds are the Reason of this #earthquake M...   \n",
              "1   4     NaN      NaN             Forest fire near La Ronge Sask. Canada   \n",
              "2   5     NaN      NaN  All residents asked to 'shelter in place' are ...   \n",
              "3   6     NaN      NaN  13,000 people receive #wildfires evacuation or...   \n",
              "4   7     NaN      NaN  Just got sent this photo from Ruby #Alaska as ...   \n",
              "\n",
              "   target  \n",
              "0       1  \n",
              "1       1  \n",
              "2       1  \n",
              "3       1  \n",
              "4       1  "
            ],
            "text/html": [
              "\n",
              "  <div id=\"df-c99ae04d-b553-4c9e-bdf2-bb58ce6603c2\" class=\"colab-df-container\">\n",
              "    <div>\n",
              "<style scoped>\n",
              "    .dataframe tbody tr th:only-of-type {\n",
              "        vertical-align: middle;\n",
              "    }\n",
              "\n",
              "    .dataframe tbody tr th {\n",
              "        vertical-align: top;\n",
              "    }\n",
              "\n",
              "    .dataframe thead th {\n",
              "        text-align: right;\n",
              "    }\n",
              "</style>\n",
              "<table border=\"1\" class=\"dataframe\">\n",
              "  <thead>\n",
              "    <tr style=\"text-align: right;\">\n",
              "      <th></th>\n",
              "      <th>id</th>\n",
              "      <th>keyword</th>\n",
              "      <th>location</th>\n",
              "      <th>text</th>\n",
              "      <th>target</th>\n",
              "    </tr>\n",
              "  </thead>\n",
              "  <tbody>\n",
              "    <tr>\n",
              "      <th>0</th>\n",
              "      <td>1</td>\n",
              "      <td>NaN</td>\n",
              "      <td>NaN</td>\n",
              "      <td>Our Deeds are the Reason of this #earthquake M...</td>\n",
              "      <td>1</td>\n",
              "    </tr>\n",
              "    <tr>\n",
              "      <th>1</th>\n",
              "      <td>4</td>\n",
              "      <td>NaN</td>\n",
              "      <td>NaN</td>\n",
              "      <td>Forest fire near La Ronge Sask. Canada</td>\n",
              "      <td>1</td>\n",
              "    </tr>\n",
              "    <tr>\n",
              "      <th>2</th>\n",
              "      <td>5</td>\n",
              "      <td>NaN</td>\n",
              "      <td>NaN</td>\n",
              "      <td>All residents asked to 'shelter in place' are ...</td>\n",
              "      <td>1</td>\n",
              "    </tr>\n",
              "    <tr>\n",
              "      <th>3</th>\n",
              "      <td>6</td>\n",
              "      <td>NaN</td>\n",
              "      <td>NaN</td>\n",
              "      <td>13,000 people receive #wildfires evacuation or...</td>\n",
              "      <td>1</td>\n",
              "    </tr>\n",
              "    <tr>\n",
              "      <th>4</th>\n",
              "      <td>7</td>\n",
              "      <td>NaN</td>\n",
              "      <td>NaN</td>\n",
              "      <td>Just got sent this photo from Ruby #Alaska as ...</td>\n",
              "      <td>1</td>\n",
              "    </tr>\n",
              "  </tbody>\n",
              "</table>\n",
              "</div>\n",
              "    <div class=\"colab-df-buttons\">\n",
              "\n",
              "  <div class=\"colab-df-container\">\n",
              "    <button class=\"colab-df-convert\" onclick=\"convertToInteractive('df-c99ae04d-b553-4c9e-bdf2-bb58ce6603c2')\"\n",
              "            title=\"Convert this dataframe to an interactive table.\"\n",
              "            style=\"display:none;\">\n",
              "\n",
              "  <svg xmlns=\"http://www.w3.org/2000/svg\" height=\"24px\" viewBox=\"0 -960 960 960\">\n",
              "    <path d=\"M120-120v-720h720v720H120Zm60-500h600v-160H180v160Zm220 220h160v-160H400v160Zm0 220h160v-160H400v160ZM180-400h160v-160H180v160Zm440 0h160v-160H620v160ZM180-180h160v-160H180v160Zm440 0h160v-160H620v160Z\"/>\n",
              "  </svg>\n",
              "    </button>\n",
              "\n",
              "  <style>\n",
              "    .colab-df-container {\n",
              "      display:flex;\n",
              "      gap: 12px;\n",
              "    }\n",
              "\n",
              "    .colab-df-convert {\n",
              "      background-color: #E8F0FE;\n",
              "      border: none;\n",
              "      border-radius: 50%;\n",
              "      cursor: pointer;\n",
              "      display: none;\n",
              "      fill: #1967D2;\n",
              "      height: 32px;\n",
              "      padding: 0 0 0 0;\n",
              "      width: 32px;\n",
              "    }\n",
              "\n",
              "    .colab-df-convert:hover {\n",
              "      background-color: #E2EBFA;\n",
              "      box-shadow: 0px 1px 2px rgba(60, 64, 67, 0.3), 0px 1px 3px 1px rgba(60, 64, 67, 0.15);\n",
              "      fill: #174EA6;\n",
              "    }\n",
              "\n",
              "    .colab-df-buttons div {\n",
              "      margin-bottom: 4px;\n",
              "    }\n",
              "\n",
              "    [theme=dark] .colab-df-convert {\n",
              "      background-color: #3B4455;\n",
              "      fill: #D2E3FC;\n",
              "    }\n",
              "\n",
              "    [theme=dark] .colab-df-convert:hover {\n",
              "      background-color: #434B5C;\n",
              "      box-shadow: 0px 1px 3px 1px rgba(0, 0, 0, 0.15);\n",
              "      filter: drop-shadow(0px 1px 2px rgba(0, 0, 0, 0.3));\n",
              "      fill: #FFFFFF;\n",
              "    }\n",
              "  </style>\n",
              "\n",
              "    <script>\n",
              "      const buttonEl =\n",
              "        document.querySelector('#df-c99ae04d-b553-4c9e-bdf2-bb58ce6603c2 button.colab-df-convert');\n",
              "      buttonEl.style.display =\n",
              "        google.colab.kernel.accessAllowed ? 'block' : 'none';\n",
              "\n",
              "      async function convertToInteractive(key) {\n",
              "        const element = document.querySelector('#df-c99ae04d-b553-4c9e-bdf2-bb58ce6603c2');\n",
              "        const dataTable =\n",
              "          await google.colab.kernel.invokeFunction('convertToInteractive',\n",
              "                                                    [key], {});\n",
              "        if (!dataTable) return;\n",
              "\n",
              "        const docLinkHtml = 'Like what you see? Visit the ' +\n",
              "          '<a target=\"_blank\" href=https://colab.research.google.com/notebooks/data_table.ipynb>data table notebook</a>'\n",
              "          + ' to learn more about interactive tables.';\n",
              "        element.innerHTML = '';\n",
              "        dataTable['output_type'] = 'display_data';\n",
              "        await google.colab.output.renderOutput(dataTable, element);\n",
              "        const docLink = document.createElement('div');\n",
              "        docLink.innerHTML = docLinkHtml;\n",
              "        element.appendChild(docLink);\n",
              "      }\n",
              "    </script>\n",
              "  </div>\n",
              "\n",
              "\n",
              "<div id=\"df-aa36e08f-e8eb-4726-87f9-dee71e80993b\">\n",
              "  <button class=\"colab-df-quickchart\" onclick=\"quickchart('df-aa36e08f-e8eb-4726-87f9-dee71e80993b')\"\n",
              "            title=\"Suggest charts.\"\n",
              "            style=\"display:none;\">\n",
              "\n",
              "<svg xmlns=\"http://www.w3.org/2000/svg\" height=\"24px\"viewBox=\"0 0 24 24\"\n",
              "     width=\"24px\">\n",
              "    <g>\n",
              "        <path d=\"M19 3H5c-1.1 0-2 .9-2 2v14c0 1.1.9 2 2 2h14c1.1 0 2-.9 2-2V5c0-1.1-.9-2-2-2zM9 17H7v-7h2v7zm4 0h-2V7h2v10zm4 0h-2v-4h2v4z\"/>\n",
              "    </g>\n",
              "</svg>\n",
              "  </button>\n",
              "\n",
              "<style>\n",
              "  .colab-df-quickchart {\n",
              "      --bg-color: #E8F0FE;\n",
              "      --fill-color: #1967D2;\n",
              "      --hover-bg-color: #E2EBFA;\n",
              "      --hover-fill-color: #174EA6;\n",
              "      --disabled-fill-color: #AAA;\n",
              "      --disabled-bg-color: #DDD;\n",
              "  }\n",
              "\n",
              "  [theme=dark] .colab-df-quickchart {\n",
              "      --bg-color: #3B4455;\n",
              "      --fill-color: #D2E3FC;\n",
              "      --hover-bg-color: #434B5C;\n",
              "      --hover-fill-color: #FFFFFF;\n",
              "      --disabled-bg-color: #3B4455;\n",
              "      --disabled-fill-color: #666;\n",
              "  }\n",
              "\n",
              "  .colab-df-quickchart {\n",
              "    background-color: var(--bg-color);\n",
              "    border: none;\n",
              "    border-radius: 50%;\n",
              "    cursor: pointer;\n",
              "    display: none;\n",
              "    fill: var(--fill-color);\n",
              "    height: 32px;\n",
              "    padding: 0;\n",
              "    width: 32px;\n",
              "  }\n",
              "\n",
              "  .colab-df-quickchart:hover {\n",
              "    background-color: var(--hover-bg-color);\n",
              "    box-shadow: 0 1px 2px rgba(60, 64, 67, 0.3), 0 1px 3px 1px rgba(60, 64, 67, 0.15);\n",
              "    fill: var(--button-hover-fill-color);\n",
              "  }\n",
              "\n",
              "  .colab-df-quickchart-complete:disabled,\n",
              "  .colab-df-quickchart-complete:disabled:hover {\n",
              "    background-color: var(--disabled-bg-color);\n",
              "    fill: var(--disabled-fill-color);\n",
              "    box-shadow: none;\n",
              "  }\n",
              "\n",
              "  .colab-df-spinner {\n",
              "    border: 2px solid var(--fill-color);\n",
              "    border-color: transparent;\n",
              "    border-bottom-color: var(--fill-color);\n",
              "    animation:\n",
              "      spin 1s steps(1) infinite;\n",
              "  }\n",
              "\n",
              "  @keyframes spin {\n",
              "    0% {\n",
              "      border-color: transparent;\n",
              "      border-bottom-color: var(--fill-color);\n",
              "      border-left-color: var(--fill-color);\n",
              "    }\n",
              "    20% {\n",
              "      border-color: transparent;\n",
              "      border-left-color: var(--fill-color);\n",
              "      border-top-color: var(--fill-color);\n",
              "    }\n",
              "    30% {\n",
              "      border-color: transparent;\n",
              "      border-left-color: var(--fill-color);\n",
              "      border-top-color: var(--fill-color);\n",
              "      border-right-color: var(--fill-color);\n",
              "    }\n",
              "    40% {\n",
              "      border-color: transparent;\n",
              "      border-right-color: var(--fill-color);\n",
              "      border-top-color: var(--fill-color);\n",
              "    }\n",
              "    60% {\n",
              "      border-color: transparent;\n",
              "      border-right-color: var(--fill-color);\n",
              "    }\n",
              "    80% {\n",
              "      border-color: transparent;\n",
              "      border-right-color: var(--fill-color);\n",
              "      border-bottom-color: var(--fill-color);\n",
              "    }\n",
              "    90% {\n",
              "      border-color: transparent;\n",
              "      border-bottom-color: var(--fill-color);\n",
              "    }\n",
              "  }\n",
              "</style>\n",
              "\n",
              "  <script>\n",
              "    async function quickchart(key) {\n",
              "      const quickchartButtonEl =\n",
              "        document.querySelector('#' + key + ' button');\n",
              "      quickchartButtonEl.disabled = true;  // To prevent multiple clicks.\n",
              "      quickchartButtonEl.classList.add('colab-df-spinner');\n",
              "      try {\n",
              "        const charts = await google.colab.kernel.invokeFunction(\n",
              "            'suggestCharts', [key], {});\n",
              "      } catch (error) {\n",
              "        console.error('Error during call to suggestCharts:', error);\n",
              "      }\n",
              "      quickchartButtonEl.classList.remove('colab-df-spinner');\n",
              "      quickchartButtonEl.classList.add('colab-df-quickchart-complete');\n",
              "    }\n",
              "    (() => {\n",
              "      let quickchartButtonEl =\n",
              "        document.querySelector('#df-aa36e08f-e8eb-4726-87f9-dee71e80993b button');\n",
              "      quickchartButtonEl.style.display =\n",
              "        google.colab.kernel.accessAllowed ? 'block' : 'none';\n",
              "    })();\n",
              "  </script>\n",
              "</div>\n",
              "\n",
              "    </div>\n",
              "  </div>\n"
            ]
          },
          "metadata": {},
          "execution_count": 3
        }
      ]
    },
    {
      "cell_type": "code",
      "source": [
        "print('Null Values by Feature')\n",
        "train.isnull().sum()"
      ],
      "metadata": {
        "colab": {
          "base_uri": "https://localhost:8080/"
        },
        "id": "oZEXiyHLQf34",
        "outputId": "05417d6e-5b18-47d3-8444-5dd3c2bc693e"
      },
      "execution_count": 4,
      "outputs": [
        {
          "output_type": "stream",
          "name": "stdout",
          "text": [
            "Null Values by Feature\n"
          ]
        },
        {
          "output_type": "execute_result",
          "data": {
            "text/plain": [
              "id             0\n",
              "keyword       61\n",
              "location    2533\n",
              "text           0\n",
              "target         0\n",
              "dtype: int64"
            ]
          },
          "metadata": {},
          "execution_count": 4
        }
      ]
    },
    {
      "cell_type": "markdown",
      "source": [
        "The test data consists of 3263 tweets that have the following features: ID, keyword, loctation, text (main body of tweet), and target. Few of the tweets have a keyword or location. There are 26 tweets with a missing keyword and 1105 (about 1/3) with a missing location."
      ],
      "metadata": {
        "id": "3zJIhAKDSMjK"
      }
    },
    {
      "cell_type": "code",
      "source": [
        "test = pd.read_csv('drive/MyDrive/Colab Notebooks/DisasterTweets/test.csv')\n",
        "print(\"Test Data Shape:\", test.shape)\n",
        "print(\"Test Data Example:\")\n",
        "test.head()"
      ],
      "metadata": {
        "colab": {
          "base_uri": "https://localhost:8080/",
          "height": 241
        },
        "id": "5hVXPBEjIOE3",
        "outputId": "0c1b2471-0b5e-4832-c409-18ec486cb223"
      },
      "execution_count": 5,
      "outputs": [
        {
          "output_type": "stream",
          "name": "stdout",
          "text": [
            "Test Data Shape: (3263, 4)\n",
            "Test Data Example:\n"
          ]
        },
        {
          "output_type": "execute_result",
          "data": {
            "text/plain": [
              "   id keyword location                                               text\n",
              "0   0     NaN      NaN                 Just happened a terrible car crash\n",
              "1   2     NaN      NaN  Heard about #earthquake is different cities, s...\n",
              "2   3     NaN      NaN  there is a forest fire at spot pond, geese are...\n",
              "3   9     NaN      NaN           Apocalypse lighting. #Spokane #wildfires\n",
              "4  11     NaN      NaN      Typhoon Soudelor kills 28 in China and Taiwan"
            ],
            "text/html": [
              "\n",
              "  <div id=\"df-df97588a-58eb-4cd7-80b8-c95d8e3d8a29\" class=\"colab-df-container\">\n",
              "    <div>\n",
              "<style scoped>\n",
              "    .dataframe tbody tr th:only-of-type {\n",
              "        vertical-align: middle;\n",
              "    }\n",
              "\n",
              "    .dataframe tbody tr th {\n",
              "        vertical-align: top;\n",
              "    }\n",
              "\n",
              "    .dataframe thead th {\n",
              "        text-align: right;\n",
              "    }\n",
              "</style>\n",
              "<table border=\"1\" class=\"dataframe\">\n",
              "  <thead>\n",
              "    <tr style=\"text-align: right;\">\n",
              "      <th></th>\n",
              "      <th>id</th>\n",
              "      <th>keyword</th>\n",
              "      <th>location</th>\n",
              "      <th>text</th>\n",
              "    </tr>\n",
              "  </thead>\n",
              "  <tbody>\n",
              "    <tr>\n",
              "      <th>0</th>\n",
              "      <td>0</td>\n",
              "      <td>NaN</td>\n",
              "      <td>NaN</td>\n",
              "      <td>Just happened a terrible car crash</td>\n",
              "    </tr>\n",
              "    <tr>\n",
              "      <th>1</th>\n",
              "      <td>2</td>\n",
              "      <td>NaN</td>\n",
              "      <td>NaN</td>\n",
              "      <td>Heard about #earthquake is different cities, s...</td>\n",
              "    </tr>\n",
              "    <tr>\n",
              "      <th>2</th>\n",
              "      <td>3</td>\n",
              "      <td>NaN</td>\n",
              "      <td>NaN</td>\n",
              "      <td>there is a forest fire at spot pond, geese are...</td>\n",
              "    </tr>\n",
              "    <tr>\n",
              "      <th>3</th>\n",
              "      <td>9</td>\n",
              "      <td>NaN</td>\n",
              "      <td>NaN</td>\n",
              "      <td>Apocalypse lighting. #Spokane #wildfires</td>\n",
              "    </tr>\n",
              "    <tr>\n",
              "      <th>4</th>\n",
              "      <td>11</td>\n",
              "      <td>NaN</td>\n",
              "      <td>NaN</td>\n",
              "      <td>Typhoon Soudelor kills 28 in China and Taiwan</td>\n",
              "    </tr>\n",
              "  </tbody>\n",
              "</table>\n",
              "</div>\n",
              "    <div class=\"colab-df-buttons\">\n",
              "\n",
              "  <div class=\"colab-df-container\">\n",
              "    <button class=\"colab-df-convert\" onclick=\"convertToInteractive('df-df97588a-58eb-4cd7-80b8-c95d8e3d8a29')\"\n",
              "            title=\"Convert this dataframe to an interactive table.\"\n",
              "            style=\"display:none;\">\n",
              "\n",
              "  <svg xmlns=\"http://www.w3.org/2000/svg\" height=\"24px\" viewBox=\"0 -960 960 960\">\n",
              "    <path d=\"M120-120v-720h720v720H120Zm60-500h600v-160H180v160Zm220 220h160v-160H400v160Zm0 220h160v-160H400v160ZM180-400h160v-160H180v160Zm440 0h160v-160H620v160ZM180-180h160v-160H180v160Zm440 0h160v-160H620v160Z\"/>\n",
              "  </svg>\n",
              "    </button>\n",
              "\n",
              "  <style>\n",
              "    .colab-df-container {\n",
              "      display:flex;\n",
              "      gap: 12px;\n",
              "    }\n",
              "\n",
              "    .colab-df-convert {\n",
              "      background-color: #E8F0FE;\n",
              "      border: none;\n",
              "      border-radius: 50%;\n",
              "      cursor: pointer;\n",
              "      display: none;\n",
              "      fill: #1967D2;\n",
              "      height: 32px;\n",
              "      padding: 0 0 0 0;\n",
              "      width: 32px;\n",
              "    }\n",
              "\n",
              "    .colab-df-convert:hover {\n",
              "      background-color: #E2EBFA;\n",
              "      box-shadow: 0px 1px 2px rgba(60, 64, 67, 0.3), 0px 1px 3px 1px rgba(60, 64, 67, 0.15);\n",
              "      fill: #174EA6;\n",
              "    }\n",
              "\n",
              "    .colab-df-buttons div {\n",
              "      margin-bottom: 4px;\n",
              "    }\n",
              "\n",
              "    [theme=dark] .colab-df-convert {\n",
              "      background-color: #3B4455;\n",
              "      fill: #D2E3FC;\n",
              "    }\n",
              "\n",
              "    [theme=dark] .colab-df-convert:hover {\n",
              "      background-color: #434B5C;\n",
              "      box-shadow: 0px 1px 3px 1px rgba(0, 0, 0, 0.15);\n",
              "      filter: drop-shadow(0px 1px 2px rgba(0, 0, 0, 0.3));\n",
              "      fill: #FFFFFF;\n",
              "    }\n",
              "  </style>\n",
              "\n",
              "    <script>\n",
              "      const buttonEl =\n",
              "        document.querySelector('#df-df97588a-58eb-4cd7-80b8-c95d8e3d8a29 button.colab-df-convert');\n",
              "      buttonEl.style.display =\n",
              "        google.colab.kernel.accessAllowed ? 'block' : 'none';\n",
              "\n",
              "      async function convertToInteractive(key) {\n",
              "        const element = document.querySelector('#df-df97588a-58eb-4cd7-80b8-c95d8e3d8a29');\n",
              "        const dataTable =\n",
              "          await google.colab.kernel.invokeFunction('convertToInteractive',\n",
              "                                                    [key], {});\n",
              "        if (!dataTable) return;\n",
              "\n",
              "        const docLinkHtml = 'Like what you see? Visit the ' +\n",
              "          '<a target=\"_blank\" href=https://colab.research.google.com/notebooks/data_table.ipynb>data table notebook</a>'\n",
              "          + ' to learn more about interactive tables.';\n",
              "        element.innerHTML = '';\n",
              "        dataTable['output_type'] = 'display_data';\n",
              "        await google.colab.output.renderOutput(dataTable, element);\n",
              "        const docLink = document.createElement('div');\n",
              "        docLink.innerHTML = docLinkHtml;\n",
              "        element.appendChild(docLink);\n",
              "      }\n",
              "    </script>\n",
              "  </div>\n",
              "\n",
              "\n",
              "<div id=\"df-2e51fd0a-9e99-4f46-bc0b-277dfb6e1cde\">\n",
              "  <button class=\"colab-df-quickchart\" onclick=\"quickchart('df-2e51fd0a-9e99-4f46-bc0b-277dfb6e1cde')\"\n",
              "            title=\"Suggest charts.\"\n",
              "            style=\"display:none;\">\n",
              "\n",
              "<svg xmlns=\"http://www.w3.org/2000/svg\" height=\"24px\"viewBox=\"0 0 24 24\"\n",
              "     width=\"24px\">\n",
              "    <g>\n",
              "        <path d=\"M19 3H5c-1.1 0-2 .9-2 2v14c0 1.1.9 2 2 2h14c1.1 0 2-.9 2-2V5c0-1.1-.9-2-2-2zM9 17H7v-7h2v7zm4 0h-2V7h2v10zm4 0h-2v-4h2v4z\"/>\n",
              "    </g>\n",
              "</svg>\n",
              "  </button>\n",
              "\n",
              "<style>\n",
              "  .colab-df-quickchart {\n",
              "      --bg-color: #E8F0FE;\n",
              "      --fill-color: #1967D2;\n",
              "      --hover-bg-color: #E2EBFA;\n",
              "      --hover-fill-color: #174EA6;\n",
              "      --disabled-fill-color: #AAA;\n",
              "      --disabled-bg-color: #DDD;\n",
              "  }\n",
              "\n",
              "  [theme=dark] .colab-df-quickchart {\n",
              "      --bg-color: #3B4455;\n",
              "      --fill-color: #D2E3FC;\n",
              "      --hover-bg-color: #434B5C;\n",
              "      --hover-fill-color: #FFFFFF;\n",
              "      --disabled-bg-color: #3B4455;\n",
              "      --disabled-fill-color: #666;\n",
              "  }\n",
              "\n",
              "  .colab-df-quickchart {\n",
              "    background-color: var(--bg-color);\n",
              "    border: none;\n",
              "    border-radius: 50%;\n",
              "    cursor: pointer;\n",
              "    display: none;\n",
              "    fill: var(--fill-color);\n",
              "    height: 32px;\n",
              "    padding: 0;\n",
              "    width: 32px;\n",
              "  }\n",
              "\n",
              "  .colab-df-quickchart:hover {\n",
              "    background-color: var(--hover-bg-color);\n",
              "    box-shadow: 0 1px 2px rgba(60, 64, 67, 0.3), 0 1px 3px 1px rgba(60, 64, 67, 0.15);\n",
              "    fill: var(--button-hover-fill-color);\n",
              "  }\n",
              "\n",
              "  .colab-df-quickchart-complete:disabled,\n",
              "  .colab-df-quickchart-complete:disabled:hover {\n",
              "    background-color: var(--disabled-bg-color);\n",
              "    fill: var(--disabled-fill-color);\n",
              "    box-shadow: none;\n",
              "  }\n",
              "\n",
              "  .colab-df-spinner {\n",
              "    border: 2px solid var(--fill-color);\n",
              "    border-color: transparent;\n",
              "    border-bottom-color: var(--fill-color);\n",
              "    animation:\n",
              "      spin 1s steps(1) infinite;\n",
              "  }\n",
              "\n",
              "  @keyframes spin {\n",
              "    0% {\n",
              "      border-color: transparent;\n",
              "      border-bottom-color: var(--fill-color);\n",
              "      border-left-color: var(--fill-color);\n",
              "    }\n",
              "    20% {\n",
              "      border-color: transparent;\n",
              "      border-left-color: var(--fill-color);\n",
              "      border-top-color: var(--fill-color);\n",
              "    }\n",
              "    30% {\n",
              "      border-color: transparent;\n",
              "      border-left-color: var(--fill-color);\n",
              "      border-top-color: var(--fill-color);\n",
              "      border-right-color: var(--fill-color);\n",
              "    }\n",
              "    40% {\n",
              "      border-color: transparent;\n",
              "      border-right-color: var(--fill-color);\n",
              "      border-top-color: var(--fill-color);\n",
              "    }\n",
              "    60% {\n",
              "      border-color: transparent;\n",
              "      border-right-color: var(--fill-color);\n",
              "    }\n",
              "    80% {\n",
              "      border-color: transparent;\n",
              "      border-right-color: var(--fill-color);\n",
              "      border-bottom-color: var(--fill-color);\n",
              "    }\n",
              "    90% {\n",
              "      border-color: transparent;\n",
              "      border-bottom-color: var(--fill-color);\n",
              "    }\n",
              "  }\n",
              "</style>\n",
              "\n",
              "  <script>\n",
              "    async function quickchart(key) {\n",
              "      const quickchartButtonEl =\n",
              "        document.querySelector('#' + key + ' button');\n",
              "      quickchartButtonEl.disabled = true;  // To prevent multiple clicks.\n",
              "      quickchartButtonEl.classList.add('colab-df-spinner');\n",
              "      try {\n",
              "        const charts = await google.colab.kernel.invokeFunction(\n",
              "            'suggestCharts', [key], {});\n",
              "      } catch (error) {\n",
              "        console.error('Error during call to suggestCharts:', error);\n",
              "      }\n",
              "      quickchartButtonEl.classList.remove('colab-df-spinner');\n",
              "      quickchartButtonEl.classList.add('colab-df-quickchart-complete');\n",
              "    }\n",
              "    (() => {\n",
              "      let quickchartButtonEl =\n",
              "        document.querySelector('#df-2e51fd0a-9e99-4f46-bc0b-277dfb6e1cde button');\n",
              "      quickchartButtonEl.style.display =\n",
              "        google.colab.kernel.accessAllowed ? 'block' : 'none';\n",
              "    })();\n",
              "  </script>\n",
              "</div>\n",
              "\n",
              "    </div>\n",
              "  </div>\n"
            ]
          },
          "metadata": {},
          "execution_count": 5
        }
      ]
    },
    {
      "cell_type": "code",
      "source": [
        "print('Null Values by Feature')\n",
        "test.isnull().sum()"
      ],
      "metadata": {
        "colab": {
          "base_uri": "https://localhost:8080/"
        },
        "id": "ARr2u7VJSFuk",
        "outputId": "c4d7241d-d437-4d19-c2bb-fde6f270eb9c"
      },
      "execution_count": 6,
      "outputs": [
        {
          "output_type": "stream",
          "name": "stdout",
          "text": [
            "Null Values by Feature\n"
          ]
        },
        {
          "output_type": "execute_result",
          "data": {
            "text/plain": [
              "id             0\n",
              "keyword       26\n",
              "location    1105\n",
              "text           0\n",
              "dtype: int64"
            ]
          },
          "metadata": {},
          "execution_count": 6
        }
      ]
    },
    {
      "cell_type": "markdown",
      "source": [
        "We empirically observe the train test split to be 70% train to 30% test. Note above we can see that they split on ID as the IDs begin at 0 and alternate between train and test."
      ],
      "metadata": {
        "id": "B12noI90SUIP"
      }
    },
    {
      "cell_type": "code",
      "source": [
        "print(\"Train Proportion:\", np.round(train.shape[0]/(test.shape[0]+train.shape[0]), 4))\n",
        "print(\"Test Proportion:\", np.round(test.shape[0]/(test.shape[0]+train.shape[0]), 4))"
      ],
      "metadata": {
        "colab": {
          "base_uri": "https://localhost:8080/"
        },
        "id": "yYb-mlh0Pvxd",
        "outputId": "01ded5ee-6c58-4cb5-c8a9-7559330beda3"
      },
      "execution_count": 7,
      "outputs": [
        {
          "output_type": "stream",
          "name": "stdout",
          "text": [
            "Train Proportion: 0.7\n",
            "Test Proportion: 0.3\n"
          ]
        }
      ]
    },
    {
      "cell_type": "markdown",
      "source": [
        "Example of a sample submisson. The goal of the project will be to create an NLP solution and assign predictions about whether or not a tweet signals a real disaster. These predictions will be made on the tweets in the test dataset and be submitted in a format that looks like the following with IDs and their associated classifications."
      ],
      "metadata": {
        "id": "Q565VSUGSzpG"
      }
    },
    {
      "cell_type": "code",
      "source": [
        "sample_submission = pd.read_csv('drive/MyDrive/Colab Notebooks/DisasterTweets/sample_submission.csv')\n",
        "sample_submission.head()"
      ],
      "metadata": {
        "colab": {
          "base_uri": "https://localhost:8080/",
          "height": 206
        },
        "id": "gj56CBqVJ0MU",
        "outputId": "5a4a8b20-0b75-4855-bab4-64c151ae4691"
      },
      "execution_count": 8,
      "outputs": [
        {
          "output_type": "execute_result",
          "data": {
            "text/plain": [
              "   id  target\n",
              "0   0       0\n",
              "1   2       0\n",
              "2   3       0\n",
              "3   9       0\n",
              "4  11       0"
            ],
            "text/html": [
              "\n",
              "  <div id=\"df-738bc499-d76a-4658-ab4d-17b2b45d926c\" class=\"colab-df-container\">\n",
              "    <div>\n",
              "<style scoped>\n",
              "    .dataframe tbody tr th:only-of-type {\n",
              "        vertical-align: middle;\n",
              "    }\n",
              "\n",
              "    .dataframe tbody tr th {\n",
              "        vertical-align: top;\n",
              "    }\n",
              "\n",
              "    .dataframe thead th {\n",
              "        text-align: right;\n",
              "    }\n",
              "</style>\n",
              "<table border=\"1\" class=\"dataframe\">\n",
              "  <thead>\n",
              "    <tr style=\"text-align: right;\">\n",
              "      <th></th>\n",
              "      <th>id</th>\n",
              "      <th>target</th>\n",
              "    </tr>\n",
              "  </thead>\n",
              "  <tbody>\n",
              "    <tr>\n",
              "      <th>0</th>\n",
              "      <td>0</td>\n",
              "      <td>0</td>\n",
              "    </tr>\n",
              "    <tr>\n",
              "      <th>1</th>\n",
              "      <td>2</td>\n",
              "      <td>0</td>\n",
              "    </tr>\n",
              "    <tr>\n",
              "      <th>2</th>\n",
              "      <td>3</td>\n",
              "      <td>0</td>\n",
              "    </tr>\n",
              "    <tr>\n",
              "      <th>3</th>\n",
              "      <td>9</td>\n",
              "      <td>0</td>\n",
              "    </tr>\n",
              "    <tr>\n",
              "      <th>4</th>\n",
              "      <td>11</td>\n",
              "      <td>0</td>\n",
              "    </tr>\n",
              "  </tbody>\n",
              "</table>\n",
              "</div>\n",
              "    <div class=\"colab-df-buttons\">\n",
              "\n",
              "  <div class=\"colab-df-container\">\n",
              "    <button class=\"colab-df-convert\" onclick=\"convertToInteractive('df-738bc499-d76a-4658-ab4d-17b2b45d926c')\"\n",
              "            title=\"Convert this dataframe to an interactive table.\"\n",
              "            style=\"display:none;\">\n",
              "\n",
              "  <svg xmlns=\"http://www.w3.org/2000/svg\" height=\"24px\" viewBox=\"0 -960 960 960\">\n",
              "    <path d=\"M120-120v-720h720v720H120Zm60-500h600v-160H180v160Zm220 220h160v-160H400v160Zm0 220h160v-160H400v160ZM180-400h160v-160H180v160Zm440 0h160v-160H620v160ZM180-180h160v-160H180v160Zm440 0h160v-160H620v160Z\"/>\n",
              "  </svg>\n",
              "    </button>\n",
              "\n",
              "  <style>\n",
              "    .colab-df-container {\n",
              "      display:flex;\n",
              "      gap: 12px;\n",
              "    }\n",
              "\n",
              "    .colab-df-convert {\n",
              "      background-color: #E8F0FE;\n",
              "      border: none;\n",
              "      border-radius: 50%;\n",
              "      cursor: pointer;\n",
              "      display: none;\n",
              "      fill: #1967D2;\n",
              "      height: 32px;\n",
              "      padding: 0 0 0 0;\n",
              "      width: 32px;\n",
              "    }\n",
              "\n",
              "    .colab-df-convert:hover {\n",
              "      background-color: #E2EBFA;\n",
              "      box-shadow: 0px 1px 2px rgba(60, 64, 67, 0.3), 0px 1px 3px 1px rgba(60, 64, 67, 0.15);\n",
              "      fill: #174EA6;\n",
              "    }\n",
              "\n",
              "    .colab-df-buttons div {\n",
              "      margin-bottom: 4px;\n",
              "    }\n",
              "\n",
              "    [theme=dark] .colab-df-convert {\n",
              "      background-color: #3B4455;\n",
              "      fill: #D2E3FC;\n",
              "    }\n",
              "\n",
              "    [theme=dark] .colab-df-convert:hover {\n",
              "      background-color: #434B5C;\n",
              "      box-shadow: 0px 1px 3px 1px rgba(0, 0, 0, 0.15);\n",
              "      filter: drop-shadow(0px 1px 2px rgba(0, 0, 0, 0.3));\n",
              "      fill: #FFFFFF;\n",
              "    }\n",
              "  </style>\n",
              "\n",
              "    <script>\n",
              "      const buttonEl =\n",
              "        document.querySelector('#df-738bc499-d76a-4658-ab4d-17b2b45d926c button.colab-df-convert');\n",
              "      buttonEl.style.display =\n",
              "        google.colab.kernel.accessAllowed ? 'block' : 'none';\n",
              "\n",
              "      async function convertToInteractive(key) {\n",
              "        const element = document.querySelector('#df-738bc499-d76a-4658-ab4d-17b2b45d926c');\n",
              "        const dataTable =\n",
              "          await google.colab.kernel.invokeFunction('convertToInteractive',\n",
              "                                                    [key], {});\n",
              "        if (!dataTable) return;\n",
              "\n",
              "        const docLinkHtml = 'Like what you see? Visit the ' +\n",
              "          '<a target=\"_blank\" href=https://colab.research.google.com/notebooks/data_table.ipynb>data table notebook</a>'\n",
              "          + ' to learn more about interactive tables.';\n",
              "        element.innerHTML = '';\n",
              "        dataTable['output_type'] = 'display_data';\n",
              "        await google.colab.output.renderOutput(dataTable, element);\n",
              "        const docLink = document.createElement('div');\n",
              "        docLink.innerHTML = docLinkHtml;\n",
              "        element.appendChild(docLink);\n",
              "      }\n",
              "    </script>\n",
              "  </div>\n",
              "\n",
              "\n",
              "<div id=\"df-24eb7d80-16f9-4a38-bdaf-c7cdcf34b9ce\">\n",
              "  <button class=\"colab-df-quickchart\" onclick=\"quickchart('df-24eb7d80-16f9-4a38-bdaf-c7cdcf34b9ce')\"\n",
              "            title=\"Suggest charts.\"\n",
              "            style=\"display:none;\">\n",
              "\n",
              "<svg xmlns=\"http://www.w3.org/2000/svg\" height=\"24px\"viewBox=\"0 0 24 24\"\n",
              "     width=\"24px\">\n",
              "    <g>\n",
              "        <path d=\"M19 3H5c-1.1 0-2 .9-2 2v14c0 1.1.9 2 2 2h14c1.1 0 2-.9 2-2V5c0-1.1-.9-2-2-2zM9 17H7v-7h2v7zm4 0h-2V7h2v10zm4 0h-2v-4h2v4z\"/>\n",
              "    </g>\n",
              "</svg>\n",
              "  </button>\n",
              "\n",
              "<style>\n",
              "  .colab-df-quickchart {\n",
              "      --bg-color: #E8F0FE;\n",
              "      --fill-color: #1967D2;\n",
              "      --hover-bg-color: #E2EBFA;\n",
              "      --hover-fill-color: #174EA6;\n",
              "      --disabled-fill-color: #AAA;\n",
              "      --disabled-bg-color: #DDD;\n",
              "  }\n",
              "\n",
              "  [theme=dark] .colab-df-quickchart {\n",
              "      --bg-color: #3B4455;\n",
              "      --fill-color: #D2E3FC;\n",
              "      --hover-bg-color: #434B5C;\n",
              "      --hover-fill-color: #FFFFFF;\n",
              "      --disabled-bg-color: #3B4455;\n",
              "      --disabled-fill-color: #666;\n",
              "  }\n",
              "\n",
              "  .colab-df-quickchart {\n",
              "    background-color: var(--bg-color);\n",
              "    border: none;\n",
              "    border-radius: 50%;\n",
              "    cursor: pointer;\n",
              "    display: none;\n",
              "    fill: var(--fill-color);\n",
              "    height: 32px;\n",
              "    padding: 0;\n",
              "    width: 32px;\n",
              "  }\n",
              "\n",
              "  .colab-df-quickchart:hover {\n",
              "    background-color: var(--hover-bg-color);\n",
              "    box-shadow: 0 1px 2px rgba(60, 64, 67, 0.3), 0 1px 3px 1px rgba(60, 64, 67, 0.15);\n",
              "    fill: var(--button-hover-fill-color);\n",
              "  }\n",
              "\n",
              "  .colab-df-quickchart-complete:disabled,\n",
              "  .colab-df-quickchart-complete:disabled:hover {\n",
              "    background-color: var(--disabled-bg-color);\n",
              "    fill: var(--disabled-fill-color);\n",
              "    box-shadow: none;\n",
              "  }\n",
              "\n",
              "  .colab-df-spinner {\n",
              "    border: 2px solid var(--fill-color);\n",
              "    border-color: transparent;\n",
              "    border-bottom-color: var(--fill-color);\n",
              "    animation:\n",
              "      spin 1s steps(1) infinite;\n",
              "  }\n",
              "\n",
              "  @keyframes spin {\n",
              "    0% {\n",
              "      border-color: transparent;\n",
              "      border-bottom-color: var(--fill-color);\n",
              "      border-left-color: var(--fill-color);\n",
              "    }\n",
              "    20% {\n",
              "      border-color: transparent;\n",
              "      border-left-color: var(--fill-color);\n",
              "      border-top-color: var(--fill-color);\n",
              "    }\n",
              "    30% {\n",
              "      border-color: transparent;\n",
              "      border-left-color: var(--fill-color);\n",
              "      border-top-color: var(--fill-color);\n",
              "      border-right-color: var(--fill-color);\n",
              "    }\n",
              "    40% {\n",
              "      border-color: transparent;\n",
              "      border-right-color: var(--fill-color);\n",
              "      border-top-color: var(--fill-color);\n",
              "    }\n",
              "    60% {\n",
              "      border-color: transparent;\n",
              "      border-right-color: var(--fill-color);\n",
              "    }\n",
              "    80% {\n",
              "      border-color: transparent;\n",
              "      border-right-color: var(--fill-color);\n",
              "      border-bottom-color: var(--fill-color);\n",
              "    }\n",
              "    90% {\n",
              "      border-color: transparent;\n",
              "      border-bottom-color: var(--fill-color);\n",
              "    }\n",
              "  }\n",
              "</style>\n",
              "\n",
              "  <script>\n",
              "    async function quickchart(key) {\n",
              "      const quickchartButtonEl =\n",
              "        document.querySelector('#' + key + ' button');\n",
              "      quickchartButtonEl.disabled = true;  // To prevent multiple clicks.\n",
              "      quickchartButtonEl.classList.add('colab-df-spinner');\n",
              "      try {\n",
              "        const charts = await google.colab.kernel.invokeFunction(\n",
              "            'suggestCharts', [key], {});\n",
              "      } catch (error) {\n",
              "        console.error('Error during call to suggestCharts:', error);\n",
              "      }\n",
              "      quickchartButtonEl.classList.remove('colab-df-spinner');\n",
              "      quickchartButtonEl.classList.add('colab-df-quickchart-complete');\n",
              "    }\n",
              "    (() => {\n",
              "      let quickchartButtonEl =\n",
              "        document.querySelector('#df-24eb7d80-16f9-4a38-bdaf-c7cdcf34b9ce button');\n",
              "      quickchartButtonEl.style.display =\n",
              "        google.colab.kernel.accessAllowed ? 'block' : 'none';\n",
              "    })();\n",
              "  </script>\n",
              "</div>\n",
              "\n",
              "    </div>\n",
              "  </div>\n"
            ]
          },
          "metadata": {},
          "execution_count": 8
        }
      ]
    },
    {
      "cell_type": "markdown",
      "source": [
        "### Exploratory Data Analysis (EDA)"
      ],
      "metadata": {
        "id": "LfPjY7tRUnmM"
      }
    },
    {
      "cell_type": "markdown",
      "source": [
        "Examining the data types of the features in train"
      ],
      "metadata": {
        "id": "-zuG3DJHbO2U"
      }
    },
    {
      "cell_type": "code",
      "source": [
        "train.dtypes"
      ],
      "metadata": {
        "colab": {
          "base_uri": "https://localhost:8080/"
        },
        "id": "tmxhrl6JUr3g",
        "outputId": "63c3a79f-fbce-4375-d87a-880dad136026"
      },
      "execution_count": 9,
      "outputs": [
        {
          "output_type": "execute_result",
          "data": {
            "text/plain": [
              "id           int64\n",
              "keyword     object\n",
              "location    object\n",
              "text        object\n",
              "target       int64\n",
              "dtype: object"
            ]
          },
          "metadata": {},
          "execution_count": 9
        }
      ]
    },
    {
      "cell_type": "markdown",
      "source": [
        "The class balance of the target (0:No Disaster 1:Disaster)\n",
        "\n",
        "Not quite balanced but pretty solid balance nonetheless."
      ],
      "metadata": {
        "id": "Pp1N4h0obR-w"
      }
    },
    {
      "cell_type": "code",
      "source": [
        "train.target.value_counts(normalize=True)"
      ],
      "metadata": {
        "colab": {
          "base_uri": "https://localhost:8080/"
        },
        "id": "xU9b3qCOUx0n",
        "outputId": "e2984e4a-97a2-44c7-a9c9-842134620603"
      },
      "execution_count": 10,
      "outputs": [
        {
          "output_type": "execute_result",
          "data": {
            "text/plain": [
              "0    0.57034\n",
              "1    0.42966\n",
              "Name: target, dtype: float64"
            ]
          },
          "metadata": {},
          "execution_count": 10
        }
      ]
    },
    {
      "cell_type": "markdown",
      "source": [
        "Replacing any occurence of the float 'NAN' in the dataset with the string 'None' to unify data types in the keyword and location columns. Allows us to look at the unique keywords in the next cell."
      ],
      "metadata": {
        "id": "Gx92RzZpbfIR"
      }
    },
    {
      "cell_type": "code",
      "source": [
        "train = train.replace(np.nan, 'None')"
      ],
      "metadata": {
        "id": "ElekR4w-Ztmm"
      },
      "execution_count": 11,
      "outputs": []
    },
    {
      "cell_type": "code",
      "source": [
        "print(\"Unique Keywords in Train:\", len(np.unique(train.keyword)))\n",
        "np.unique(train.keyword)"
      ],
      "metadata": {
        "colab": {
          "base_uri": "https://localhost:8080/"
        },
        "id": "LhRZ8UEbaVwB",
        "outputId": "7f2f3fa7-7f20-4b9d-e51c-a66217ad0b6a"
      },
      "execution_count": 12,
      "outputs": [
        {
          "output_type": "stream",
          "name": "stdout",
          "text": [
            "Unique Keywords in Train: 222\n"
          ]
        },
        {
          "output_type": "execute_result",
          "data": {
            "text/plain": [
              "array(['None', 'ablaze', 'accident', 'aftershock', 'airplane%20accident',\n",
              "       'ambulance', 'annihilated', 'annihilation', 'apocalypse',\n",
              "       'armageddon', 'army', 'arson', 'arsonist', 'attack', 'attacked',\n",
              "       'avalanche', 'battle', 'bioterror', 'bioterrorism', 'blaze',\n",
              "       'blazing', 'bleeding', 'blew%20up', 'blight', 'blizzard', 'blood',\n",
              "       'bloody', 'blown%20up', 'body%20bag', 'body%20bagging',\n",
              "       'body%20bags', 'bomb', 'bombed', 'bombing', 'bridge%20collapse',\n",
              "       'buildings%20burning', 'buildings%20on%20fire', 'burned',\n",
              "       'burning', 'burning%20buildings', 'bush%20fires', 'casualties',\n",
              "       'casualty', 'catastrophe', 'catastrophic', 'chemical%20emergency',\n",
              "       'cliff%20fall', 'collapse', 'collapsed', 'collide', 'collided',\n",
              "       'collision', 'crash', 'crashed', 'crush', 'crushed', 'curfew',\n",
              "       'cyclone', 'damage', 'danger', 'dead', 'death', 'deaths', 'debris',\n",
              "       'deluge', 'deluged', 'demolish', 'demolished', 'demolition',\n",
              "       'derail', 'derailed', 'derailment', 'desolate', 'desolation',\n",
              "       'destroy', 'destroyed', 'destruction', 'detonate', 'detonation',\n",
              "       'devastated', 'devastation', 'disaster', 'displaced', 'drought',\n",
              "       'drown', 'drowned', 'drowning', 'dust%20storm', 'earthquake',\n",
              "       'electrocute', 'electrocuted', 'emergency', 'emergency%20plan',\n",
              "       'emergency%20services', 'engulfed', 'epicentre', 'evacuate',\n",
              "       'evacuated', 'evacuation', 'explode', 'exploded', 'explosion',\n",
              "       'eyewitness', 'famine', 'fatal', 'fatalities', 'fatality', 'fear',\n",
              "       'fire', 'fire%20truck', 'first%20responders', 'flames',\n",
              "       'flattened', 'flood', 'flooding', 'floods', 'forest%20fire',\n",
              "       'forest%20fires', 'hail', 'hailstorm', 'harm', 'hazard',\n",
              "       'hazardous', 'heat%20wave', 'hellfire', 'hijack', 'hijacker',\n",
              "       'hijacking', 'hostage', 'hostages', 'hurricane', 'injured',\n",
              "       'injuries', 'injury', 'inundated', 'inundation', 'landslide',\n",
              "       'lava', 'lightning', 'loud%20bang', 'mass%20murder',\n",
              "       'mass%20murderer', 'massacre', 'mayhem', 'meltdown', 'military',\n",
              "       'mudslide', 'natural%20disaster', 'nuclear%20disaster',\n",
              "       'nuclear%20reactor', 'obliterate', 'obliterated', 'obliteration',\n",
              "       'oil%20spill', 'outbreak', 'pandemonium', 'panic', 'panicking',\n",
              "       'police', 'quarantine', 'quarantined', 'radiation%20emergency',\n",
              "       'rainstorm', 'razed', 'refugees', 'rescue', 'rescued', 'rescuers',\n",
              "       'riot', 'rioting', 'rubble', 'ruin', 'sandstorm', 'screamed',\n",
              "       'screaming', 'screams', 'seismic', 'sinkhole', 'sinking', 'siren',\n",
              "       'sirens', 'smoke', 'snowstorm', 'storm', 'stretcher',\n",
              "       'structural%20failure', 'suicide%20bomb', 'suicide%20bomber',\n",
              "       'suicide%20bombing', 'sunk', 'survive', 'survived', 'survivors',\n",
              "       'terrorism', 'terrorist', 'threat', 'thunder', 'thunderstorm',\n",
              "       'tornado', 'tragedy', 'trapped', 'trauma', 'traumatised',\n",
              "       'trouble', 'tsunami', 'twister', 'typhoon', 'upheaval',\n",
              "       'violent%20storm', 'volcano', 'war%20zone', 'weapon', 'weapons',\n",
              "       'whirlwind', 'wild%20fires', 'wildfire', 'windstorm', 'wounded',\n",
              "       'wounds', 'wreck', 'wreckage', 'wrecked'], dtype=object)"
            ]
          },
          "metadata": {},
          "execution_count": 12
        }
      ]
    },
    {
      "cell_type": "markdown",
      "source": [
        "Frequency of keywords in the train dataset. Fairly balanced distribution with no non-null keyword having less than 9 or more than 45."
      ],
      "metadata": {
        "id": "FLMucGy9cWy6"
      }
    },
    {
      "cell_type": "code",
      "source": [
        "train.keyword.value_counts()"
      ],
      "metadata": {
        "colab": {
          "base_uri": "https://localhost:8080/"
        },
        "id": "qWs8qNa6cR1b",
        "outputId": "43c77ad3-2999-4220-d625-9db9d1ff9c58"
      },
      "execution_count": 13,
      "outputs": [
        {
          "output_type": "execute_result",
          "data": {
            "text/plain": [
              "None                     61\n",
              "fatalities               45\n",
              "deluge                   42\n",
              "armageddon               42\n",
              "sinking                  41\n",
              "                         ..\n",
              "forest%20fire            19\n",
              "epicentre                12\n",
              "threat                   11\n",
              "inundation               10\n",
              "radiation%20emergency     9\n",
              "Name: keyword, Length: 222, dtype: int64"
            ]
          },
          "metadata": {},
          "execution_count": 13
        }
      ]
    },
    {
      "cell_type": "code",
      "source": [
        "plt.hist(train.keyword.value_counts())\n",
        "plt.title('Distribution of Keyword Counts')\n",
        "plt.xlabel('Number of Occurences of Keyword')\n",
        "plt.ylabel('Frequency')"
      ],
      "metadata": {
        "colab": {
          "base_uri": "https://localhost:8080/",
          "height": 489
        },
        "id": "kxUbWDetcl46",
        "outputId": "e1f2fe97-ff92-4f9b-a1c8-c30968359f95"
      },
      "execution_count": 14,
      "outputs": [
        {
          "output_type": "execute_result",
          "data": {
            "text/plain": [
              "Text(0, 0.5, 'Frequency')"
            ]
          },
          "metadata": {},
          "execution_count": 14
        },
        {
          "output_type": "display_data",
          "data": {
            "text/plain": [
              "<Figure size 640x480 with 1 Axes>"
            ],
            "image/png": "[encoded data removed]"
          },
          "metadata": {}
        }
      ]
    },
    {
      "cell_type": "markdown",
      "source": [
        "While the keywords in the tweets were fairly balanced the locations vary greatly. There are 3342 unique locations, which, if you exlude the 'None's leaves an average of about 2 tweets per unique location."
      ],
      "metadata": {
        "id": "wVOPxwNcdblN"
      }
    },
    {
      "cell_type": "code",
      "source": [
        "print(\"Unique Locations in Train:\", len(np.unique(train.location)))\n",
        "np.unique(train.location)"
      ],
      "metadata": {
        "colab": {
          "base_uri": "https://localhost:8080/"
        },
        "id": "DqlRuGstdN4q",
        "outputId": "3e4b95da-7054-4363-b08a-e7eaf1bbbe10"
      },
      "execution_count": 15,
      "outputs": [
        {
          "output_type": "stream",
          "name": "stdout",
          "text": [
            "Unique Locations in Train: 3342\n"
          ]
        },
        {
          "output_type": "execute_result",
          "data": {
            "text/plain": [
              "array(['  ', '  Glasgow ', '  Melbourne, Australia', ...,\n",
              "       'å¡å¡Midwest \\x89Û¢\\x89Û¢', 'åÊ(?\\x89Û¢`?\\x89Û¢å«)??',\n",
              "       'åø\\\\_(?)_/åø'], dtype=object)"
            ]
          },
          "metadata": {},
          "execution_count": 15
        }
      ]
    },
    {
      "cell_type": "code",
      "source": [
        "train.location.value_counts()"
      ],
      "metadata": {
        "colab": {
          "base_uri": "https://localhost:8080/"
        },
        "id": "1RV5i1modWi5",
        "outputId": "845b2564-78da-421c-f37d-85ab7f4b5222"
      },
      "execution_count": 16,
      "outputs": [
        {
          "output_type": "execute_result",
          "data": {
            "text/plain": [
              "None                            2533\n",
              "USA                              104\n",
              "New York                          71\n",
              "United States                     50\n",
              "London                            45\n",
              "                                ... \n",
              "Surulere Lagos,Home Of Swagg       1\n",
              "MontrÌ©al, QuÌ©bec                 1\n",
              "Montreal                           1\n",
              "ÌÏT: 6.4682,3.18287                1\n",
              "Lincoln                            1\n",
              "Name: location, Length: 3342, dtype: int64"
            ]
          },
          "metadata": {},
          "execution_count": 16
        }
      ]
    },
    {
      "cell_type": "markdown",
      "source": [
        "Calculating the average number of characters in each tweet text body."
      ],
      "metadata": {
        "id": "spQYEHosG6Us"
      }
    },
    {
      "cell_type": "code",
      "source": [
        "text_characters = [len(text) for text in train.text]\n",
        "print(\"Average Tweet Length:\", np.round(np.mean(text_characters),1), \"characters\")"
      ],
      "metadata": {
        "colab": {
          "base_uri": "https://localhost:8080/"
        },
        "id": "e4mOEm9bGSxd",
        "outputId": "9aeb2bb7-b493-4218-a7c0-acf8c2022542"
      },
      "execution_count": 17,
      "outputs": [
        {
          "output_type": "stream",
          "name": "stdout",
          "text": [
            "Average Tweet Length: 101.0 characters\n"
          ]
        }
      ]
    },
    {
      "cell_type": "markdown",
      "source": [
        "Examing test data types and replacing the float \"NAN\" with the string \"None\" for consistency in the keyword and location attribute data types."
      ],
      "metadata": {
        "id": "jU9Tp0CYd4f7"
      }
    },
    {
      "cell_type": "code",
      "source": [
        "test.dtypes"
      ],
      "metadata": {
        "colab": {
          "base_uri": "https://localhost:8080/"
        },
        "id": "_9WZyw42U8xE",
        "outputId": "b24ffd20-323a-4256-9234-7abe5b9f73f2"
      },
      "execution_count": 18,
      "outputs": [
        {
          "output_type": "execute_result",
          "data": {
            "text/plain": [
              "id           int64\n",
              "keyword     object\n",
              "location    object\n",
              "text        object\n",
              "dtype: object"
            ]
          },
          "metadata": {},
          "execution_count": 18
        }
      ]
    },
    {
      "cell_type": "code",
      "source": [
        "test = test.replace(np.nan, 'None')"
      ],
      "metadata": {
        "id": "6vLPeqi3r0kJ"
      },
      "execution_count": 19,
      "outputs": []
    },
    {
      "cell_type": "markdown",
      "source": [
        "Test data has the same keywords as the train dataset. Likewise, the frequency of keywords inhabits a relatively narrow range of 1-25ish."
      ],
      "metadata": {
        "id": "LxxZN3VnsBEM"
      }
    },
    {
      "cell_type": "code",
      "source": [
        "test.keyword.value_counts()"
      ],
      "metadata": {
        "colab": {
          "base_uri": "https://localhost:8080/"
        },
        "id": "530kfAPvr43J",
        "outputId": "ef7dfb14-4c0e-4246-8858-04d9a9f328c6"
      },
      "execution_count": 20,
      "outputs": [
        {
          "output_type": "execute_result",
          "data": {
            "text/plain": [
              "None             26\n",
              "deluged          23\n",
              "demolished       22\n",
              "rubble           22\n",
              "snowstorm        21\n",
              "                 ..\n",
              "threat            5\n",
              "fatalities        5\n",
              "forest%20fire     5\n",
              "inundation        4\n",
              "epicentre         1\n",
              "Name: keyword, Length: 222, dtype: int64"
            ]
          },
          "metadata": {},
          "execution_count": 20
        }
      ]
    },
    {
      "cell_type": "code",
      "source": [
        "plt.hist(test.keyword.value_counts())\n",
        "plt.title('Distribution of Keyword Counts')\n",
        "plt.xlabel('Number of Occurences of Keyword')\n",
        "plt.ylabel('Frequency')"
      ],
      "metadata": {
        "colab": {
          "base_uri": "https://localhost:8080/",
          "height": 489
        },
        "id": "QTq0fHF7saFh",
        "outputId": "80ae13d9-b861-46f9-a7d5-fc1a4d593d8d"
      },
      "execution_count": 21,
      "outputs": [
        {
          "output_type": "execute_result",
          "data": {
            "text/plain": [
              "Text(0, 0.5, 'Frequency')"
            ]
          },
          "metadata": {},
          "execution_count": 21
        },
        {
          "output_type": "display_data",
          "data": {
            "text/plain": [
              "<Figure size 640x480 with 1 Axes>"
            ],
            "image/png": "[encoded data removed]"
          },
          "metadata": {}
        }
      ]
    },
    {
      "cell_type": "code",
      "source": [
        "test.location.value_counts()"
      ],
      "metadata": {
        "colab": {
          "base_uri": "https://localhost:8080/"
        },
        "id": "qnXcJCJMsQcZ",
        "outputId": "19a7c31b-68c9-4fa8-b2f4-54bad0959c6c"
      },
      "execution_count": 22,
      "outputs": [
        {
          "output_type": "execute_result",
          "data": {
            "text/plain": [
              "None                      1105\n",
              "New York                    38\n",
              "USA                         37\n",
              "Worldwide                   16\n",
              "United States               15\n",
              "                          ... \n",
              "Quezon City                  1\n",
              "LanÌ¼s                       1\n",
              "USA,Washington,Seattle       1\n",
              "Roanoke, VA                  1\n",
              "Brussels, Belgium            1\n",
              "Name: location, Length: 1603, dtype: int64"
            ]
          },
          "metadata": {},
          "execution_count": 22
        }
      ]
    },
    {
      "cell_type": "markdown",
      "source": [
        "Calculating the average number of characters in each tweet text body."
      ],
      "metadata": {
        "id": "fvvx6slCHHYo"
      }
    },
    {
      "cell_type": "code",
      "source": [
        "text_characters = [len(text) for text in test.text]\n",
        "print(\"Average Tweet Length:\", np.round(np.mean(text_characters),1), \"characters\")"
      ],
      "metadata": {
        "colab": {
          "base_uri": "https://localhost:8080/"
        },
        "id": "HxrhCaleGn5b",
        "outputId": "0dcb1f66-0184-4df9-b14b-fa728ed44555"
      },
      "execution_count": 23,
      "outputs": [
        {
          "output_type": "stream",
          "name": "stdout",
          "text": [
            "Average Tweet Length: 102.1 characters\n"
          ]
        }
      ]
    },
    {
      "cell_type": "markdown",
      "source": [
        "Recall that the average tweet length in the training set was 101 characters; thus we can conclude that the tweets are of similar lengths on average."
      ],
      "metadata": {
        "id": "8GY2CSygHTL8"
      }
    },
    {
      "cell_type": "markdown",
      "source": [
        "Splitting the training data into train and validation portions to allow us to effectively validate the model that we will fit on the data."
      ],
      "metadata": {
        "id": "x3rLcvPlRNjr"
      }
    },
    {
      "cell_type": "code",
      "source": [
        "train_X, val_X, train_y, val_y = train_test_split(train['text'], train['target'], test_size=0.3, random_state=1)"
      ],
      "metadata": {
        "id": "zOfI_c_NcsVg"
      },
      "execution_count": 24,
      "outputs": []
    },
    {
      "cell_type": "code",
      "source": [
        "print(\"Train X Shape:\",train_X.shape)\n",
        "print(\"Train y Shape:\",train_y.shape)\n",
        "print(\"Validation X Shape:\",val_X.shape)\n",
        "print(\"Validation y Shape:\",val_y.shape)"
      ],
      "metadata": {
        "colab": {
          "base_uri": "https://localhost:8080/"
        },
        "id": "Y5WIPfeSRU12",
        "outputId": "e36ba834-07a6-4246-9752-8f8bdfb019df"
      },
      "execution_count": 25,
      "outputs": [
        {
          "output_type": "stream",
          "name": "stdout",
          "text": [
            "Train X Shape: (5329,)\n",
            "Train y Shape: (5329,)\n",
            "Validation X Shape: (2284,)\n",
            "Validation y Shape: (2284,)\n"
          ]
        }
      ]
    },
    {
      "cell_type": "markdown",
      "source": [
        "### Processing Tweet Text into Matrix Form\n",
        "\n",
        "We will be utilizing Term Frequency - Inverse Document Frequency (TF-IDF) to translate the text of the tweets into word embeddings."
      ],
      "metadata": {
        "id": "BNg5nZAWFuex"
      }
    },
    {
      "cell_type": "markdown",
      "source": [
        "Instantiating a TF-IDF Vectorizer, we specify min_df which is the minimum number of documents in which a word must appear in to be considered (i.e. if min_df=5 any words that appear in less than 5 documents will be exlcuded) and max_df which is the max proportion of documents a word can be included in to be considered (i.e. if 'ran' appeared in 99% of documents it would be excluded)."
      ],
      "metadata": {
        "id": "d7lHaRlOf0ss"
      }
    },
    {
      "cell_type": "code",
      "source": [
        "tfidf = TfidfVectorizer(stop_words='english', min_df = 2, max_df = 0.98)"
      ],
      "metadata": {
        "id": "1nS899fxePgU"
      },
      "execution_count": 26,
      "outputs": []
    },
    {
      "cell_type": "markdown",
      "source": [
        "Fit the TF-IDF Vectorizor on the training data and applying it to the validation (and eventually test) data."
      ],
      "metadata": {
        "id": "DxS3k8_WfuAX"
      }
    },
    {
      "cell_type": "code",
      "source": [
        "train_tfidf = tfidf.fit_transform(train_X)\n",
        "train_tfidf = np.array(train_tfidf.todense())\n",
        "print(\"Shape of embedded training data:\", train_tfidf.shape)\n",
        "print(\"Example of embedded data:\")\n",
        "pd.DataFrame(train_tfidf).head()"
      ],
      "metadata": {
        "colab": {
          "base_uri": "https://localhost:8080/",
          "height": 270
        },
        "id": "JkNo83qKcxgq",
        "outputId": "c2b0aa12-c744-4f93-dbbc-5dcf79430f53"
      },
      "execution_count": 27,
      "outputs": [
        {
          "output_type": "stream",
          "name": "stdout",
          "text": [
            "Shape of embedded training data: (5329, 4987)\n",
            "Example of embedded data:\n"
          ]
        },
        {
          "output_type": "execute_result",
          "data": {
            "text/plain": [
              "   0     1     2     3     4     5     6     7     8     9     ...  4977  \\\n",
              "0   0.0   0.0   0.0   0.0   0.0   0.0   0.0   0.0   0.0   0.0  ...   0.0   \n",
              "1   0.0   0.0   0.0   0.0   0.0   0.0   0.0   0.0   0.0   0.0  ...   0.0   \n",
              "2   0.0   0.0   0.0   0.0   0.0   0.0   0.0   0.0   0.0   0.0  ...   0.0   \n",
              "3   0.0   0.0   0.0   0.0   0.0   0.0   0.0   0.0   0.0   0.0  ...   0.0   \n",
              "4   0.0   0.0   0.0   0.0   0.0   0.0   0.0   0.0   0.0   0.0  ...   0.0   \n",
              "\n",
              "   4978  4979  4980  4981      4982  4983  4984  4985  4986  \n",
              "0   0.0   0.0   0.0   0.0  0.000000   0.0   0.0   0.0   0.0  \n",
              "1   0.0   0.0   0.0   0.0  0.287921   0.0   0.0   0.0   0.0  \n",
              "2   0.0   0.0   0.0   0.0  0.000000   0.0   0.0   0.0   0.0  \n",
              "3   0.0   0.0   0.0   0.0  0.000000   0.0   0.0   0.0   0.0  \n",
              "4   0.0   0.0   0.0   0.0  0.000000   0.0   0.0   0.0   0.0  \n",
              "\n",
              "[5 rows x 4987 columns]"
            ],
            "text/html": [
              "\n",
              "  <div id=\"df-c94d1c23-8104-4792-8d1c-7c3fa5d01245\" class=\"colab-df-container\">\n",
              "    <div>\n",
              "<style scoped>\n",
              "    .dataframe tbody tr th:only-of-type {\n",
              "        vertical-align: middle;\n",
              "    }\n",
              "\n",
              "    .dataframe tbody tr th {\n",
              "        vertical-align: top;\n",
              "    }\n",
              "\n",
              "    .dataframe thead th {\n",
              "        text-align: right;\n",
              "    }\n",
              "</style>\n",
              "<table border=\"1\" class=\"dataframe\">\n",
              "  <thead>\n",
              "    <tr style=\"text-align: right;\">\n",
              "      <th></th>\n",
              "      <th>0</th>\n",
              "      <th>1</th>\n",
              "      <th>2</th>\n",
              "      <th>3</th>\n",
              "      <th>4</th>\n",
              "      <th>5</th>\n",
              "      <th>6</th>\n",
              "      <th>7</th>\n",
              "      <th>8</th>\n",
              "      <th>9</th>\n",
              "      <th>...</th>\n",
              "      <th>4977</th>\n",
              "      <th>4978</th>\n",
              "      <th>4979</th>\n",
              "      <th>4980</th>\n",
              "      <th>4981</th>\n",
              "      <th>4982</th>\n",
              "      <th>4983</th>\n",
              "      <th>4984</th>\n",
              "      <th>4985</th>\n",
              "      <th>4986</th>\n",
              "    </tr>\n",
              "  </thead>\n",
              "  <tbody>\n",
              "    <tr>\n",
              "      <th>0</th>\n",
              "      <td>0.0</td>\n",
              "      <td>0.0</td>\n",
              "      <td>0.0</td>\n",
              "      <td>0.0</td>\n",
              "      <td>0.0</td>\n",
              "      <td>0.0</td>\n",
              "      <td>0.0</td>\n",
              "      <td>0.0</td>\n",
              "      <td>0.0</td>\n",
              "      <td>0.0</td>\n",
              "      <td>...</td>\n",
              "      <td>0.0</td>\n",
              "      <td>0.0</td>\n",
              "      <td>0.0</td>\n",
              "      <td>0.0</td>\n",
              "      <td>0.0</td>\n",
              "      <td>0.000000</td>\n",
              "      <td>0.0</td>\n",
              "      <td>0.0</td>\n",
              "      <td>0.0</td>\n",
              "      <td>0.0</td>\n",
              "    </tr>\n",
              "    <tr>\n",
              "      <th>1</th>\n",
              "      <td>0.0</td>\n",
              "      <td>0.0</td>\n",
              "      <td>0.0</td>\n",
              "      <td>0.0</td>\n",
              "      <td>0.0</td>\n",
              "      <td>0.0</td>\n",
              "      <td>0.0</td>\n",
              "      <td>0.0</td>\n",
              "      <td>0.0</td>\n",
              "      <td>0.0</td>\n",
              "      <td>...</td>\n",
              "      <td>0.0</td>\n",
              "      <td>0.0</td>\n",
              "      <td>0.0</td>\n",
              "      <td>0.0</td>\n",
              "      <td>0.0</td>\n",
              "      <td>0.287921</td>\n",
              "      <td>0.0</td>\n",
              "      <td>0.0</td>\n",
              "      <td>0.0</td>\n",
              "      <td>0.0</td>\n",
              "    </tr>\n",
              "    <tr>\n",
              "      <th>2</th>\n",
              "      <td>0.0</td>\n",
              "      <td>0.0</td>\n",
              "      <td>0.0</td>\n",
              "      <td>0.0</td>\n",
              "      <td>0.0</td>\n",
              "      <td>0.0</td>\n",
              "      <td>0.0</td>\n",
              "      <td>0.0</td>\n",
              "      <td>0.0</td>\n",
              "      <td>0.0</td>\n",
              "      <td>...</td>\n",
              "      <td>0.0</td>\n",
              "      <td>0.0</td>\n",
              "      <td>0.0</td>\n",
              "      <td>0.0</td>\n",
              "      <td>0.0</td>\n",
              "      <td>0.000000</td>\n",
              "      <td>0.0</td>\n",
              "      <td>0.0</td>\n",
              "      <td>0.0</td>\n",
              "      <td>0.0</td>\n",
              "    </tr>\n",
              "    <tr>\n",
              "      <th>3</th>\n",
              "      <td>0.0</td>\n",
              "      <td>0.0</td>\n",
              "      <td>0.0</td>\n",
              "      <td>0.0</td>\n",
              "      <td>0.0</td>\n",
              "      <td>0.0</td>\n",
              "      <td>0.0</td>\n",
              "      <td>0.0</td>\n",
              "      <td>0.0</td>\n",
              "      <td>0.0</td>\n",
              "      <td>...</td>\n",
              "      <td>0.0</td>\n",
              "      <td>0.0</td>\n",
              "      <td>0.0</td>\n",
              "      <td>0.0</td>\n",
              "      <td>0.0</td>\n",
              "      <td>0.000000</td>\n",
              "      <td>0.0</td>\n",
              "      <td>0.0</td>\n",
              "      <td>0.0</td>\n",
              "      <td>0.0</td>\n",
              "    </tr>\n",
              "    <tr>\n",
              "      <th>4</th>\n",
              "      <td>0.0</td>\n",
              "      <td>0.0</td>\n",
              "      <td>0.0</td>\n",
              "      <td>0.0</td>\n",
              "      <td>0.0</td>\n",
              "      <td>0.0</td>\n",
              "      <td>0.0</td>\n",
              "      <td>0.0</td>\n",
              "      <td>0.0</td>\n",
              "      <td>0.0</td>\n",
              "      <td>...</td>\n",
              "      <td>0.0</td>\n",
              "      <td>0.0</td>\n",
              "      <td>0.0</td>\n",
              "      <td>0.0</td>\n",
              "      <td>0.0</td>\n",
              "      <td>0.000000</td>\n",
              "      <td>0.0</td>\n",
              "      <td>0.0</td>\n",
              "      <td>0.0</td>\n",
              "      <td>0.0</td>\n",
              "    </tr>\n",
              "  </tbody>\n",
              "</table>\n",
              "<p>5 rows × 4987 columns</p>\n",
              "</div>\n",
              "    <div class=\"colab-df-buttons\">\n",
              "\n",
              "  <div class=\"colab-df-container\">\n",
              "    <button class=\"colab-df-convert\" onclick=\"convertToInteractive('df-c94d1c23-8104-4792-8d1c-7c3fa5d01245')\"\n",
              "            title=\"Convert this dataframe to an interactive table.\"\n",
              "            style=\"display:none;\">\n",
              "\n",
              "  <svg xmlns=\"http://www.w3.org/2000/svg\" height=\"24px\" viewBox=\"0 -960 960 960\">\n",
              "    <path d=\"M120-120v-720h720v720H120Zm60-500h600v-160H180v160Zm220 220h160v-160H400v160Zm0 220h160v-160H400v160ZM180-400h160v-160H180v160Zm440 0h160v-160H620v160ZM180-180h160v-160H180v160Zm440 0h160v-160H620v160Z\"/>\n",
              "  </svg>\n",
              "    </button>\n",
              "\n",
              "  <style>\n",
              "    .colab-df-container {\n",
              "      display:flex;\n",
              "      gap: 12px;\n",
              "    }\n",
              "\n",
              "    .colab-df-convert {\n",
              "      background-color: #E8F0FE;\n",
              "      border: none;\n",
              "      border-radius: 50%;\n",
              "      cursor: pointer;\n",
              "      display: none;\n",
              "      fill: #1967D2;\n",
              "      height: 32px;\n",
              "      padding: 0 0 0 0;\n",
              "      width: 32px;\n",
              "    }\n",
              "\n",
              "    .colab-df-convert:hover {\n",
              "      background-color: #E2EBFA;\n",
              "      box-shadow: 0px 1px 2px rgba(60, 64, 67, 0.3), 0px 1px 3px 1px rgba(60, 64, 67, 0.15);\n",
              "      fill: #174EA6;\n",
              "    }\n",
              "\n",
              "    .colab-df-buttons div {\n",
              "      margin-bottom: 4px;\n",
              "    }\n",
              "\n",
              "    [theme=dark] .colab-df-convert {\n",
              "      background-color: #3B4455;\n",
              "      fill: #D2E3FC;\n",
              "    }\n",
              "\n",
              "    [theme=dark] .colab-df-convert:hover {\n",
              "      background-color: #434B5C;\n",
              "      box-shadow: 0px 1px 3px 1px rgba(0, 0, 0, 0.15);\n",
              "      filter: drop-shadow(0px 1px 2px rgba(0, 0, 0, 0.3));\n",
              "      fill: #FFFFFF;\n",
              "    }\n",
              "  </style>\n",
              "\n",
              "    <script>\n",
              "      const buttonEl =\n",
              "        document.querySelector('#df-c94d1c23-8104-4792-8d1c-7c3fa5d01245 button.colab-df-convert');\n",
              "      buttonEl.style.display =\n",
              "        google.colab.kernel.accessAllowed ? 'block' : 'none';\n",
              "\n",
              "      async function convertToInteractive(key) {\n",
              "        const element = document.querySelector('#df-c94d1c23-8104-4792-8d1c-7c3fa5d01245');\n",
              "        const dataTable =\n",
              "          await google.colab.kernel.invokeFunction('convertToInteractive',\n",
              "                                                    [key], {});\n",
              "        if (!dataTable) return;\n",
              "\n",
              "        const docLinkHtml = 'Like what you see? Visit the ' +\n",
              "          '<a target=\"_blank\" href=https://colab.research.google.com/notebooks/data_table.ipynb>data table notebook</a>'\n",
              "          + ' to learn more about interactive tables.';\n",
              "        element.innerHTML = '';\n",
              "        dataTable['output_type'] = 'display_data';\n",
              "        await google.colab.output.renderOutput(dataTable, element);\n",
              "        const docLink = document.createElement('div');\n",
              "        docLink.innerHTML = docLinkHtml;\n",
              "        element.appendChild(docLink);\n",
              "      }\n",
              "    </script>\n",
              "  </div>\n",
              "\n",
              "\n",
              "<div id=\"df-ec918081-ce27-4fc2-9574-2c0111a8e872\">\n",
              "  <button class=\"colab-df-quickchart\" onclick=\"quickchart('df-ec918081-ce27-4fc2-9574-2c0111a8e872')\"\n",
              "            title=\"Suggest charts.\"\n",
              "            style=\"display:none;\">\n",
              "\n",
              "<svg xmlns=\"http://www.w3.org/2000/svg\" height=\"24px\"viewBox=\"0 0 24 24\"\n",
              "     width=\"24px\">\n",
              "    <g>\n",
              "        <path d=\"M19 3H5c-1.1 0-2 .9-2 2v14c0 1.1.9 2 2 2h14c1.1 0 2-.9 2-2V5c0-1.1-.9-2-2-2zM9 17H7v-7h2v7zm4 0h-2V7h2v10zm4 0h-2v-4h2v4z\"/>\n",
              "    </g>\n",
              "</svg>\n",
              "  </button>\n",
              "\n",
              "<style>\n",
              "  .colab-df-quickchart {\n",
              "      --bg-color: #E8F0FE;\n",
              "      --fill-color: #1967D2;\n",
              "      --hover-bg-color: #E2EBFA;\n",
              "      --hover-fill-color: #174EA6;\n",
              "      --disabled-fill-color: #AAA;\n",
              "      --disabled-bg-color: #DDD;\n",
              "  }\n",
              "\n",
              "  [theme=dark] .colab-df-quickchart {\n",
              "      --bg-color: #3B4455;\n",
              "      --fill-color: #D2E3FC;\n",
              "      --hover-bg-color: #434B5C;\n",
              "      --hover-fill-color: #FFFFFF;\n",
              "      --disabled-bg-color: #3B4455;\n",
              "      --disabled-fill-color: #666;\n",
              "  }\n",
              "\n",
              "  .colab-df-quickchart {\n",
              "    background-color: var(--bg-color);\n",
              "    border: none;\n",
              "    border-radius: 50%;\n",
              "    cursor: pointer;\n",
              "    display: none;\n",
              "    fill: var(--fill-color);\n",
              "    height: 32px;\n",
              "    padding: 0;\n",
              "    width: 32px;\n",
              "  }\n",
              "\n",
              "  .colab-df-quickchart:hover {\n",
              "    background-color: var(--hover-bg-color);\n",
              "    box-shadow: 0 1px 2px rgba(60, 64, 67, 0.3), 0 1px 3px 1px rgba(60, 64, 67, 0.15);\n",
              "    fill: var(--button-hover-fill-color);\n",
              "  }\n",
              "\n",
              "  .colab-df-quickchart-complete:disabled,\n",
              "  .colab-df-quickchart-complete:disabled:hover {\n",
              "    background-color: var(--disabled-bg-color);\n",
              "    fill: var(--disabled-fill-color);\n",
              "    box-shadow: none;\n",
              "  }\n",
              "\n",
              "  .colab-df-spinner {\n",
              "    border: 2px solid var(--fill-color);\n",
              "    border-color: transparent;\n",
              "    border-bottom-color: var(--fill-color);\n",
              "    animation:\n",
              "      spin 1s steps(1) infinite;\n",
              "  }\n",
              "\n",
              "  @keyframes spin {\n",
              "    0% {\n",
              "      border-color: transparent;\n",
              "      border-bottom-color: var(--fill-color);\n",
              "      border-left-color: var(--fill-color);\n",
              "    }\n",
              "    20% {\n",
              "      border-color: transparent;\n",
              "      border-left-color: var(--fill-color);\n",
              "      border-top-color: var(--fill-color);\n",
              "    }\n",
              "    30% {\n",
              "      border-color: transparent;\n",
              "      border-left-color: var(--fill-color);\n",
              "      border-top-color: var(--fill-color);\n",
              "      border-right-color: var(--fill-color);\n",
              "    }\n",
              "    40% {\n",
              "      border-color: transparent;\n",
              "      border-right-color: var(--fill-color);\n",
              "      border-top-color: var(--fill-color);\n",
              "    }\n",
              "    60% {\n",
              "      border-color: transparent;\n",
              "      border-right-color: var(--fill-color);\n",
              "    }\n",
              "    80% {\n",
              "      border-color: transparent;\n",
              "      border-right-color: var(--fill-color);\n",
              "      border-bottom-color: var(--fill-color);\n",
              "    }\n",
              "    90% {\n",
              "      border-color: transparent;\n",
              "      border-bottom-color: var(--fill-color);\n",
              "    }\n",
              "  }\n",
              "</style>\n",
              "\n",
              "  <script>\n",
              "    async function quickchart(key) {\n",
              "      const quickchartButtonEl =\n",
              "        document.querySelector('#' + key + ' button');\n",
              "      quickchartButtonEl.disabled = true;  // To prevent multiple clicks.\n",
              "      quickchartButtonEl.classList.add('colab-df-spinner');\n",
              "      try {\n",
              "        const charts = await google.colab.kernel.invokeFunction(\n",
              "            'suggestCharts', [key], {});\n",
              "      } catch (error) {\n",
              "        console.error('Error during call to suggestCharts:', error);\n",
              "      }\n",
              "      quickchartButtonEl.classList.remove('colab-df-spinner');\n",
              "      quickchartButtonEl.classList.add('colab-df-quickchart-complete');\n",
              "    }\n",
              "    (() => {\n",
              "      let quickchartButtonEl =\n",
              "        document.querySelector('#df-ec918081-ce27-4fc2-9574-2c0111a8e872 button');\n",
              "      quickchartButtonEl.style.display =\n",
              "        google.colab.kernel.accessAllowed ? 'block' : 'none';\n",
              "    })();\n",
              "  </script>\n",
              "</div>\n",
              "\n",
              "    </div>\n",
              "  </div>\n"
            ]
          },
          "metadata": {},
          "execution_count": 27
        }
      ]
    },
    {
      "cell_type": "code",
      "source": [
        "val_tfidf = tfidf.transform(val_X)\n",
        "val_tfidf = np.array(val_tfidf.todense())\n",
        "print(\"Shape of embedded validation data:\", val_tfidf.shape)"
      ],
      "metadata": {
        "colab": {
          "base_uri": "https://localhost:8080/"
        },
        "id": "xBpOHQ7Oc9jd",
        "outputId": "6ad8b640-eb21-41b6-9891-fb665e6e79d9"
      },
      "execution_count": 28,
      "outputs": [
        {
          "output_type": "stream",
          "name": "stdout",
          "text": [
            "Shape of embedded validation data: (2284, 4987)\n"
          ]
        }
      ]
    },
    {
      "cell_type": "markdown",
      "source": [
        "Reshaping the X and y data so that it has the proper dimensions to be fed into a Recurrent Neural Network (RNN)."
      ],
      "metadata": {
        "id": "GI9Eq9D0tn8Q"
      }
    },
    {
      "cell_type": "code",
      "source": [
        "train_matrix = np.reshape(train_tfidf, (train_tfidf.shape[0], 1, train_tfidf.shape[1]))\n",
        "val_matrix = np.reshape(val_tfidf, (val_tfidf.shape[0], 1, val_tfidf.shape[1]))"
      ],
      "metadata": {
        "id": "NJD5NCq1L8fm"
      },
      "execution_count": 29,
      "outputs": []
    },
    {
      "cell_type": "code",
      "source": [
        "train_y = np.array(train_y)\n",
        "val_y = np.array(val_y)"
      ],
      "metadata": {
        "id": "qfsAUt1wXm3N"
      },
      "execution_count": 30,
      "outputs": []
    },
    {
      "cell_type": "code",
      "source": [
        "train_y = train_y.reshape(train_y.shape[0], 1)\n",
        "val_y = val_y.reshape(val_y.shape[0], 1)"
      ],
      "metadata": {
        "id": "abgGNxk5S_uj"
      },
      "execution_count": 31,
      "outputs": []
    },
    {
      "cell_type": "code",
      "source": [
        "print(train_matrix.shape)\n",
        "print(val_matrix.shape)\n",
        "print(train_y.shape)\n",
        "print(val_y.shape)"
      ],
      "metadata": {
        "colab": {
          "base_uri": "https://localhost:8080/"
        },
        "id": "jdmendMQSYHi",
        "outputId": "6952f9ca-5c2a-4a14-b424-ef77155560c8"
      },
      "execution_count": 32,
      "outputs": [
        {
          "output_type": "stream",
          "name": "stdout",
          "text": [
            "(5329, 1, 4987)\n",
            "(2284, 1, 4987)\n",
            "(5329, 1)\n",
            "(2284, 1)\n"
          ]
        }
      ]
    },
    {
      "cell_type": "markdown",
      "source": [
        "### Model Architecture"
      ],
      "metadata": {
        "id": "Airvp4yMKU6o"
      }
    },
    {
      "cell_type": "markdown",
      "source": [
        "The algorithm/model architecture of choice for this project is an RNN. An RNN feeds information from the prior step into the current step and as such has the benefit of preseving all information that it sees over time. There are numerous approaches to RNN's with Long Short Term Memory (LSTM) and Gated Recurrent Unit (GRU) being popular implementations."
      ],
      "metadata": {
        "id": "-8MfPy42xu5Z"
      }
    },
    {
      "cell_type": "markdown",
      "source": [
        "#### Stacked LSTM\n",
        "Implementing a simple RNN with two Long Short Term Memory layers with 32 an 4 units repsectively. Likewise, they include dropout and recurrent dropout rates of 50%. The output from LSTM is mapped to a dense layer with a sigmoid activation to give the classification of the model."
      ],
      "metadata": {
        "id": "QNa_Ptdh2L3I"
      }
    },
    {
      "cell_type": "code",
      "source": [
        "stacked_lstm = Sequential()\n",
        "stacked_lstm.add(LSTM(32, return_sequences=True, dropout=0.5, recurrent_dropout=0.5, input_shape=(train_matrix.shape[1], train_matrix.shape[2])))\n",
        "stacked_lstm.add(LSTM(4, return_sequences=True, dropout=0.5, recurrent_dropout=0.5))\n",
        "stacked_lstm.add(Dense(1, activation = 'sigmoid'))"
      ],
      "metadata": {
        "colab": {
          "base_uri": "https://localhost:8080/"
        },
        "id": "Ebg6qrgvKxVq",
        "outputId": "ee82dfc2-e375-4ca1-d795-03bac312a632"
      },
      "execution_count": 229,
      "outputs": [
        {
          "output_type": "stream",
          "name": "stderr",
          "text": [
            "WARNING:tensorflow:Layer lstm_35 will not use cuDNN kernels since it doesn't meet the criteria. It will use a generic GPU kernel as fallback when running on GPU.\n",
            "WARNING:tensorflow:Layer lstm_36 will not use cuDNN kernels since it doesn't meet the criteria. It will use a generic GPU kernel as fallback when running on GPU.\n"
          ]
        }
      ]
    },
    {
      "cell_type": "code",
      "source": [
        "stacked_lstm.compile(loss='binary_crossentropy', optimizer='adam', metrics=['accuracy', tensorflow.keras.metrics.AUC(name='auc')])\n",
        "stacked_lstm_history = stacked_lstm.fit(train_matrix, train_y, epochs = 10, batch_size=1, validation_data=(val_matrix, val_y))"
      ],
      "metadata": {
        "colab": {
          "base_uri": "https://localhost:8080/"
        },
        "id": "FAciPJ2XZxxO",
        "outputId": "49818c98-0bec-4f7a-f9d6-0ff976d31281"
      },
      "execution_count": 230,
      "outputs": [
        {
          "output_type": "stream",
          "name": "stdout",
          "text": [
            "Epoch 1/10\n",
            "5329/5329 [==============================] - 60s 10ms/step - loss: 0.6089 - accuracy: 0.6695 - auc: 0.7216 - val_loss: 0.4876 - val_accuracy: 0.7785 - val_auc: 0.8406\n",
            "Epoch 2/10\n",
            "5329/5329 [==============================] - 57s 11ms/step - loss: 0.4703 - accuracy: 0.7861 - auc: 0.8499 - val_loss: 0.4570 - val_accuracy: 0.7929 - val_auc: 0.8512\n",
            "Epoch 3/10\n",
            "5329/5329 [==============================] - 53s 10ms/step - loss: 0.4307 - accuracy: 0.8086 - auc: 0.8757 - val_loss: 0.4519 - val_accuracy: 0.7977 - val_auc: 0.8525\n",
            "Epoch 4/10\n",
            "5329/5329 [==============================] - 58s 11ms/step - loss: 0.4080 - accuracy: 0.8197 - auc: 0.8886 - val_loss: 0.4535 - val_accuracy: 0.7929 - val_auc: 0.8487\n",
            "Epoch 5/10\n",
            "5329/5329 [==============================] - 52s 10ms/step - loss: 0.3917 - accuracy: 0.8259 - auc: 0.8985 - val_loss: 0.4587 - val_accuracy: 0.7951 - val_auc: 0.8491\n",
            "Epoch 6/10\n",
            "5329/5329 [==============================] - 52s 10ms/step - loss: 0.3770 - accuracy: 0.8322 - auc: 0.9074 - val_loss: 0.4702 - val_accuracy: 0.7999 - val_auc: 0.8477\n",
            "Epoch 7/10\n",
            "5329/5329 [==============================] - 57s 11ms/step - loss: 0.3660 - accuracy: 0.8332 - auc: 0.9115 - val_loss: 0.4651 - val_accuracy: 0.7933 - val_auc: 0.8497\n",
            "Epoch 8/10\n",
            "5329/5329 [==============================] - 59s 11ms/step - loss: 0.3603 - accuracy: 0.8446 - auc: 0.9147 - val_loss: 0.4813 - val_accuracy: 0.7960 - val_auc: 0.8476\n",
            "Epoch 9/10\n",
            "5329/5329 [==============================] - 58s 11ms/step - loss: 0.3579 - accuracy: 0.8369 - auc: 0.9167 - val_loss: 0.4783 - val_accuracy: 0.7964 - val_auc: 0.8463\n",
            "Epoch 10/10\n",
            "5329/5329 [==============================] - 52s 10ms/step - loss: 0.3410 - accuracy: 0.8467 - auc: 0.9229 - val_loss: 0.4805 - val_accuracy: 0.7977 - val_auc: 0.8468\n"
          ]
        },
        {
          "output_type": "execute_result",
          "data": {
            "text/plain": [
              "<keras.src.callbacks.History at 0x7f05e9ffc100>"
            ]
          },
          "metadata": {},
          "execution_count": 230
        }
      ]
    },
    {
      "cell_type": "markdown",
      "source": [
        "Trying out a single layer LSTM with 32 nodes and the same dropout strategy as the prior model."
      ],
      "metadata": {
        "id": "CbvDO-Df4_fZ"
      }
    },
    {
      "cell_type": "code",
      "source": [
        "single_lstm = Sequential()\n",
        "single_lstm.add(LSTM(32, return_sequences=True, dropout=0.5, recurrent_dropout=0.5, input_shape=(train_matrix.shape[1], train_matrix.shape[2])))\n",
        "single_lstm.add(Dense(1, activation = 'sigmoid'))"
      ],
      "metadata": {
        "colab": {
          "base_uri": "https://localhost:8080/"
        },
        "id": "Edd-TE-D2zRL",
        "outputId": "7e57644f-4202-48f4-9f6b-6e014c63b3d3"
      },
      "execution_count": 242,
      "outputs": [
        {
          "output_type": "stream",
          "name": "stderr",
          "text": [
            "WARNING:tensorflow:Layer lstm_37 will not use cuDNN kernels since it doesn't meet the criteria. It will use a generic GPU kernel as fallback when running on GPU.\n"
          ]
        }
      ]
    },
    {
      "cell_type": "code",
      "source": [
        "single_lstm.compile(loss='binary_crossentropy', optimizer='adam', metrics=['accuracy', tensorflow.keras.metrics.AUC(name='auc')])\n",
        "single_lstm_history = single_lstm.fit(train_matrix, train_y, epochs = 10, batch_size=1, validation_data=(val_matrix, val_y))"
      ],
      "metadata": {
        "colab": {
          "base_uri": "https://localhost:8080/"
        },
        "id": "qE6Actcs27ID",
        "outputId": "d0824eb3-ba4c-4e8c-88da-3ec6db370b0f"
      },
      "execution_count": 243,
      "outputs": [
        {
          "output_type": "stream",
          "name": "stdout",
          "text": [
            "Epoch 1/10\n",
            "5329/5329 [==============================] - 45s 8ms/step - loss: 0.5847 - accuracy: 0.6994 - auc: 0.7504 - val_loss: 0.4762 - val_accuracy: 0.7890 - val_auc: 0.8462\n",
            "Epoch 2/10\n",
            "5329/5329 [==============================] - 41s 8ms/step - loss: 0.4587 - accuracy: 0.7940 - auc: 0.8574 - val_loss: 0.4586 - val_accuracy: 0.7951 - val_auc: 0.8511\n",
            "Epoch 3/10\n",
            "5329/5329 [==============================] - 40s 7ms/step - loss: 0.4176 - accuracy: 0.8137 - auc: 0.8830 - val_loss: 0.4663 - val_accuracy: 0.7912 - val_auc: 0.8460\n",
            "Epoch 4/10\n",
            "5329/5329 [==============================] - 37s 7ms/step - loss: 0.4003 - accuracy: 0.8199 - auc: 0.8929 - val_loss: 0.4712 - val_accuracy: 0.8034 - val_auc: 0.8470\n",
            "Epoch 5/10\n",
            "5329/5329 [==============================] - 41s 8ms/step - loss: 0.3873 - accuracy: 0.8257 - auc: 0.8992 - val_loss: 0.4682 - val_accuracy: 0.7912 - val_auc: 0.8480\n",
            "Epoch 6/10\n",
            "5329/5329 [==============================] - 47s 9ms/step - loss: 0.3725 - accuracy: 0.8337 - auc: 0.9083 - val_loss: 0.4792 - val_accuracy: 0.7903 - val_auc: 0.8437\n",
            "Epoch 7/10\n",
            "5329/5329 [==============================] - 43s 8ms/step - loss: 0.3583 - accuracy: 0.8392 - auc: 0.9143 - val_loss: 0.4765 - val_accuracy: 0.7898 - val_auc: 0.8448\n",
            "Epoch 8/10\n",
            "5329/5329 [==============================] - 53s 10ms/step - loss: 0.3517 - accuracy: 0.8488 - auc: 0.9166 - val_loss: 0.4759 - val_accuracy: 0.7920 - val_auc: 0.8461\n",
            "Epoch 9/10\n",
            "5329/5329 [==============================] - 53s 10ms/step - loss: 0.3442 - accuracy: 0.8482 - auc: 0.9212 - val_loss: 0.4829 - val_accuracy: 0.7863 - val_auc: 0.8464\n",
            "Epoch 10/10\n",
            "5329/5329 [==============================] - 41s 8ms/step - loss: 0.3376 - accuracy: 0.8512 - auc: 0.9236 - val_loss: 0.4821 - val_accuracy: 0.7881 - val_auc: 0.8477\n"
          ]
        }
      ]
    },
    {
      "cell_type": "markdown",
      "source": [
        "#### Stacked GRU\n",
        "Implementing a simple RNN with two Gated Recurrent Unit layers with 32 an 4 units repsectively. Likewise, they include dropout and recurrent dropout rates of 50%. The output from GRU\n",
        "\n",
        "```\n",
        "# This is formatted as code\n",
        "```\n",
        "\n",
        " is mapped to a dense layer with a sigmoid activation to give the classification of the model."
      ],
      "metadata": {
        "id": "7kvdQ7gT3Cao"
      }
    },
    {
      "cell_type": "code",
      "source": [
        "stacked_gru = Sequential()\n",
        "stacked_gru.add(GRU(32, return_sequences=True, dropout=0.5, recurrent_dropout=0.5, input_shape=(train_matrix.shape[1], train_matrix.shape[2])))\n",
        "stacked_gru.add(GRU(4, return_sequences=True, dropout=0.5, recurrent_dropout=0.5))\n",
        "stacked_gru.add(Dense(1, activation = 'sigmoid'))"
      ],
      "metadata": {
        "colab": {
          "base_uri": "https://localhost:8080/"
        },
        "id": "jzhPU78JplCQ",
        "outputId": "3330af6d-b788-45b2-97aa-87d56d4fae56"
      },
      "execution_count": 237,
      "outputs": [
        {
          "output_type": "stream",
          "name": "stderr",
          "text": [
            "WARNING:tensorflow:Layer gru_9 will not use cuDNN kernels since it doesn't meet the criteria. It will use a generic GPU kernel as fallback when running on GPU.\n",
            "WARNING:tensorflow:Layer gru_10 will not use cuDNN kernels since it doesn't meet the criteria. It will use a generic GPU kernel as fallback when running on GPU.\n"
          ]
        }
      ]
    },
    {
      "cell_type": "code",
      "source": [
        "stacked_gru.compile(loss='binary_crossentropy', optimizer='adam', metrics=['accuracy', tensorflow.keras.metrics.AUC(name='auc')])\n",
        "stacked_gru_history = stacked_gru.fit(train_matrix, train_y, epochs = 10, batch_size=1, validation_data=(val_matrix, val_y))"
      ],
      "metadata": {
        "colab": {
          "base_uri": "https://localhost:8080/"
        },
        "id": "jinWdGZgzC5L",
        "outputId": "d950a3ac-908d-4d96-9eb0-54fecadb71d3"
      },
      "execution_count": 238,
      "outputs": [
        {
          "output_type": "stream",
          "name": "stdout",
          "text": [
            "Epoch 1/10\n",
            "5329/5329 [==============================] - 59s 10ms/step - loss: 0.5928 - accuracy: 0.6814 - auc: 0.7321 - val_loss: 0.4772 - val_accuracy: 0.7890 - val_auc: 0.8453\n",
            "Epoch 2/10\n",
            "5329/5329 [==============================] - 67s 13ms/step - loss: 0.4664 - accuracy: 0.7878 - auc: 0.8492 - val_loss: 0.4564 - val_accuracy: 0.7920 - val_auc: 0.8487\n",
            "Epoch 3/10\n",
            "5329/5329 [==============================] - 65s 12ms/step - loss: 0.4157 - accuracy: 0.8193 - auc: 0.8839 - val_loss: 0.4610 - val_accuracy: 0.7894 - val_auc: 0.8480\n",
            "Epoch 4/10\n",
            "5329/5329 [==============================] - 56s 10ms/step - loss: 0.4013 - accuracy: 0.8229 - auc: 0.8906 - val_loss: 0.4548 - val_accuracy: 0.7920 - val_auc: 0.8525\n",
            "Epoch 5/10\n",
            "5329/5329 [==============================] - 53s 10ms/step - loss: 0.3878 - accuracy: 0.8298 - auc: 0.8986 - val_loss: 0.4564 - val_accuracy: 0.7973 - val_auc: 0.8533\n",
            "Epoch 6/10\n",
            "5329/5329 [==============================] - 57s 11ms/step - loss: 0.3747 - accuracy: 0.8388 - auc: 0.9052 - val_loss: 0.4581 - val_accuracy: 0.7986 - val_auc: 0.8519\n",
            "Epoch 7/10\n",
            "5329/5329 [==============================] - 56s 10ms/step - loss: 0.3645 - accuracy: 0.8409 - auc: 0.9116 - val_loss: 0.4651 - val_accuracy: 0.7925 - val_auc: 0.8479\n",
            "Epoch 8/10\n",
            "5329/5329 [==============================] - 51s 10ms/step - loss: 0.3572 - accuracy: 0.8465 - auc: 0.9159 - val_loss: 0.4619 - val_accuracy: 0.7920 - val_auc: 0.8518\n",
            "Epoch 9/10\n",
            "5329/5329 [==============================] - 52s 10ms/step - loss: 0.3386 - accuracy: 0.8568 - auc: 0.9227 - val_loss: 0.4888 - val_accuracy: 0.7837 - val_auc: 0.8528\n",
            "Epoch 10/10\n",
            "5329/5329 [==============================] - 53s 10ms/step - loss: 0.3426 - accuracy: 0.8519 - auc: 0.9215 - val_loss: 0.4838 - val_accuracy: 0.7942 - val_auc: 0.8477\n"
          ]
        },
        {
          "output_type": "execute_result",
          "data": {
            "text/plain": [
              "<keras.src.callbacks.History at 0x7f0606ea7bb0>"
            ]
          },
          "metadata": {},
          "execution_count": 238
        }
      ]
    },
    {
      "cell_type": "markdown",
      "source": [
        "#### Gridsearch GRU\n",
        "Implementing a simple RNN with a Gated Recurrent Unit and gridsearching through a handful of the adjustable hyperparameters. Restricted the search space to dropout rate, batch size, and number of units in the GRU layer due to memory and time constraints.\n",
        "\n",
        "Would have been interested in adding more hyperparameters and levels if better equipment access were available. The grid includes levels of 35%, 50%, and 65% for dropout rate, batch sizes of 1, 32, and 128, and GRU layer nodes of 4, 16, and 64."
      ],
      "metadata": {
        "id": "9mdFtkoj5iRB"
      }
    },
    {
      "cell_type": "code",
      "source": [
        "for dropout in [0.35, 0.5, 0.65]:\n",
        "  for batch_size in [1, 32, 128]:\n",
        "    for nodes in [4, 16, 64]:\n",
        "      print(\"\\nRNN with dropout rate:\", dropout, \"batch_size:\", batch_size,\"nodes:\", nodes)\n",
        "      model = Sequential()\n",
        "      model.add(GRU(nodes, return_sequences=True, dropout=dropout, recurrent_dropout=dropout, input_shape=(train_matrix.shape[1], train_matrix.shape[2])))\n",
        "      model.add(Dense(1, activation = 'sigmoid'))\n",
        "\n",
        "      model.compile(loss='binary_crossentropy', optimizer='adam', metrics=['accuracy', tensorflow.keras.metrics.AUC(name='auc')])\n",
        "      model.fit(train_matrix, train_y, epochs = 5, batch_size=batch_size, validation_data=(val_matrix, val_y))"
      ],
      "metadata": {
        "colab": {
          "base_uri": "https://localhost:8080/"
        },
        "id": "AUY6SZQX3mh9",
        "outputId": "4f41c75d-666c-4bec-ce8f-f816796f7936"
      },
      "execution_count": 244,
      "outputs": [
        {
          "output_type": "stream",
          "name": "stderr",
          "text": [
            "WARNING:tensorflow:Layer gru_11 will not use cuDNN kernels since it doesn't meet the criteria. It will use a generic GPU kernel as fallback when running on GPU.\n"
          ]
        },
        {
          "output_type": "stream",
          "name": "stdout",
          "text": [
            "\n",
            "RNN with dropout rate: 0.35 batch_size: 1 nodes: 4\n",
            "Epoch 1/5\n",
            "5329/5329 [==============================] - 43s 8ms/step - loss: 0.5880 - accuracy: 0.6936 - auc: 0.7638 - val_loss: 0.4773 - val_accuracy: 0.7903 - val_auc: 0.8503\n",
            "Epoch 2/5\n",
            "5329/5329 [==============================] - 51s 10ms/step - loss: 0.4289 - accuracy: 0.8127 - auc: 0.8760 - val_loss: 0.4519 - val_accuracy: 0.7920 - val_auc: 0.8552\n",
            "Epoch 3/5\n",
            "5329/5329 [==============================] - 44s 8ms/step - loss: 0.3747 - accuracy: 0.8416 - auc: 0.9064 - val_loss: 0.4648 - val_accuracy: 0.7982 - val_auc: 0.8551\n",
            "Epoch 4/5\n",
            "5329/5329 [==============================] - 46s 9ms/step - loss: 0.3526 - accuracy: 0.8474 - auc: 0.9176 - val_loss: 0.4705 - val_accuracy: 0.7938 - val_auc: 0.8543\n",
            "Epoch 5/5\n",
            "5329/5329 [==============================] - 50s 9ms/step - loss: 0.3282 - accuracy: 0.8589 - auc: 0.9302 - val_loss: 0.4846 - val_accuracy: 0.7916 - val_auc: 0.8507\n"
          ]
        },
        {
          "output_type": "stream",
          "name": "stderr",
          "text": [
            "WARNING:tensorflow:Layer gru_12 will not use cuDNN kernels since it doesn't meet the criteria. It will use a generic GPU kernel as fallback when running on GPU.\n"
          ]
        },
        {
          "output_type": "stream",
          "name": "stdout",
          "text": [
            "\n",
            "RNN with dropout rate: 0.35 batch_size: 1 nodes: 16\n",
            "Epoch 1/5\n",
            "5329/5329 [==============================] - 47s 8ms/step - loss: 0.5645 - accuracy: 0.7174 - auc: 0.7713 - val_loss: 0.4644 - val_accuracy: 0.7868 - val_auc: 0.8477\n",
            "Epoch 2/5\n",
            "5329/5329 [==============================] - 45s 8ms/step - loss: 0.4135 - accuracy: 0.8217 - auc: 0.8843 - val_loss: 0.4596 - val_accuracy: 0.7881 - val_auc: 0.8554\n",
            "Epoch 3/5\n",
            "5329/5329 [==============================] - 45s 8ms/step - loss: 0.3668 - accuracy: 0.8442 - auc: 0.9115 - val_loss: 0.4598 - val_accuracy: 0.7960 - val_auc: 0.8555\n",
            "Epoch 4/5\n",
            "5329/5329 [==============================] - 41s 8ms/step - loss: 0.3397 - accuracy: 0.8503 - auc: 0.9251 - val_loss: 0.4754 - val_accuracy: 0.7863 - val_auc: 0.8485\n",
            "Epoch 5/5\n",
            "5329/5329 [==============================] - 39s 7ms/step - loss: 0.3174 - accuracy: 0.8645 - auc: 0.9341 - val_loss: 0.4806 - val_accuracy: 0.7877 - val_auc: 0.8474\n"
          ]
        },
        {
          "output_type": "stream",
          "name": "stderr",
          "text": [
            "WARNING:tensorflow:Layer gru_13 will not use cuDNN kernels since it doesn't meet the criteria. It will use a generic GPU kernel as fallback when running on GPU.\n"
          ]
        },
        {
          "output_type": "stream",
          "name": "stdout",
          "text": [
            "\n",
            "RNN with dropout rate: 0.35 batch_size: 1 nodes: 64\n",
            "Epoch 1/5\n",
            "5329/5329 [==============================] - 38s 7ms/step - loss: 0.5506 - accuracy: 0.7264 - auc: 0.7824 - val_loss: 0.4623 - val_accuracy: 0.7960 - val_auc: 0.8504\n",
            "Epoch 2/5\n",
            "5329/5329 [==============================] - 34s 6ms/step - loss: 0.4154 - accuracy: 0.8155 - auc: 0.8858 - val_loss: 0.4605 - val_accuracy: 0.7955 - val_auc: 0.8502\n",
            "Epoch 3/5\n",
            "5329/5329 [==============================] - 40s 8ms/step - loss: 0.3723 - accuracy: 0.8399 - auc: 0.9077 - val_loss: 0.4611 - val_accuracy: 0.7964 - val_auc: 0.8494\n",
            "Epoch 4/5\n",
            "5329/5329 [==============================] - 34s 6ms/step - loss: 0.3373 - accuracy: 0.8534 - auc: 0.9254 - val_loss: 0.4662 - val_accuracy: 0.7885 - val_auc: 0.8473\n",
            "Epoch 5/5\n",
            "5329/5329 [==============================] - 35s 7ms/step - loss: 0.3096 - accuracy: 0.8656 - auc: 0.9371 - val_loss: 0.4782 - val_accuracy: 0.7837 - val_auc: 0.8477\n"
          ]
        },
        {
          "output_type": "stream",
          "name": "stderr",
          "text": [
            "WARNING:tensorflow:Layer gru_14 will not use cuDNN kernels since it doesn't meet the criteria. It will use a generic GPU kernel as fallback when running on GPU.\n"
          ]
        },
        {
          "output_type": "stream",
          "name": "stdout",
          "text": [
            "\n",
            "RNN with dropout rate: 0.35 batch_size: 32 nodes: 4\n",
            "Epoch 1/5\n",
            "167/167 [==============================] - 5s 15ms/step - loss: 0.6733 - accuracy: 0.5830 - auc: 0.6470 - val_loss: 0.6478 - val_accuracy: 0.6265 - val_auc: 0.8345\n",
            "Epoch 2/5\n",
            "167/167 [==============================] - 2s 12ms/step - loss: 0.6148 - accuracy: 0.6847 - auc: 0.8596 - val_loss: 0.5895 - val_accuracy: 0.7364 - val_auc: 0.8484\n",
            "Epoch 3/5\n",
            "167/167 [==============================] - 3s 18ms/step - loss: 0.5391 - accuracy: 0.7851 - auc: 0.8846 - val_loss: 0.5308 - val_accuracy: 0.7855 - val_auc: 0.8535\n",
            "Epoch 4/5\n",
            "167/167 [==============================] - 3s 15ms/step - loss: 0.4729 - accuracy: 0.8148 - auc: 0.8984 - val_loss: 0.4919 - val_accuracy: 0.7982 - val_auc: 0.8560\n",
            "Epoch 5/5\n",
            "167/167 [==============================] - 2s 11ms/step - loss: 0.4225 - accuracy: 0.8347 - auc: 0.9108 - val_loss: 0.4687 - val_accuracy: 0.7995 - val_auc: 0.8567\n"
          ]
        },
        {
          "output_type": "stream",
          "name": "stderr",
          "text": [
            "WARNING:tensorflow:Layer gru_15 will not use cuDNN kernels since it doesn't meet the criteria. It will use a generic GPU kernel as fallback when running on GPU.\n"
          ]
        },
        {
          "output_type": "stream",
          "name": "stdout",
          "text": [
            "\n",
            "RNN with dropout rate: 0.35 batch_size: 32 nodes: 16\n",
            "Epoch 1/5\n",
            "167/167 [==============================] - 6s 14ms/step - loss: 0.6671 - accuracy: 0.5898 - auc: 0.6743 - val_loss: 0.6287 - val_accuracy: 0.6716 - val_auc: 0.8421\n",
            "Epoch 2/5\n",
            "167/167 [==============================] - 2s 12ms/step - loss: 0.5706 - accuracy: 0.7463 - auc: 0.8635 - val_loss: 0.5307 - val_accuracy: 0.7855 - val_auc: 0.8509\n",
            "Epoch 3/5\n",
            "167/167 [==============================] - 2s 11ms/step - loss: 0.4592 - accuracy: 0.8185 - auc: 0.8897 - val_loss: 0.4731 - val_accuracy: 0.7977 - val_auc: 0.8533\n",
            "Epoch 4/5\n",
            "167/167 [==============================] - 2s 12ms/step - loss: 0.3887 - accuracy: 0.8414 - auc: 0.9137 - val_loss: 0.4549 - val_accuracy: 0.7890 - val_auc: 0.8539\n",
            "Epoch 5/5\n",
            "167/167 [==============================] - 3s 21ms/step - loss: 0.3570 - accuracy: 0.8503 - auc: 0.9222 - val_loss: 0.4560 - val_accuracy: 0.7894 - val_auc: 0.8525\n"
          ]
        },
        {
          "output_type": "stream",
          "name": "stderr",
          "text": [
            "WARNING:tensorflow:Layer gru_16 will not use cuDNN kernels since it doesn't meet the criteria. It will use a generic GPU kernel as fallback when running on GPU.\n"
          ]
        },
        {
          "output_type": "stream",
          "name": "stdout",
          "text": [
            "\n",
            "RNN with dropout rate: 0.35 batch_size: 32 nodes: 64\n",
            "Epoch 1/5\n",
            "167/167 [==============================] - 5s 14ms/step - loss: 0.6421 - accuracy: 0.6386 - auc: 0.7447 - val_loss: 0.5627 - val_accuracy: 0.7588 - val_auc: 0.8497\n",
            "Epoch 2/5\n",
            "167/167 [==============================] - 2s 12ms/step - loss: 0.4780 - accuracy: 0.8002 - auc: 0.8717 - val_loss: 0.4629 - val_accuracy: 0.7907 - val_auc: 0.8529\n",
            "Epoch 3/5\n",
            "167/167 [==============================] - 2s 11ms/step - loss: 0.3863 - accuracy: 0.8347 - auc: 0.9048 - val_loss: 0.4555 - val_accuracy: 0.7912 - val_auc: 0.8537\n",
            "Epoch 4/5\n",
            "167/167 [==============================] - 3s 16ms/step - loss: 0.3432 - accuracy: 0.8503 - auc: 0.9243 - val_loss: 0.4687 - val_accuracy: 0.7881 - val_auc: 0.8489\n",
            "Epoch 5/5\n",
            "167/167 [==============================] - 3s 17ms/step - loss: 0.3173 - accuracy: 0.8626 - auc: 0.9350 - val_loss: 0.4933 - val_accuracy: 0.7868 - val_auc: 0.8430\n"
          ]
        },
        {
          "output_type": "stream",
          "name": "stderr",
          "text": [
            "WARNING:tensorflow:Layer gru_17 will not use cuDNN kernels since it doesn't meet the criteria. It will use a generic GPU kernel as fallback when running on GPU.\n"
          ]
        },
        {
          "output_type": "stream",
          "name": "stdout",
          "text": [
            "\n",
            "RNN with dropout rate: 0.35 batch_size: 128 nodes: 4\n",
            "Epoch 1/5\n",
            "42/42 [==============================] - 4s 27ms/step - loss: 0.6861 - accuracy: 0.5761 - auc: 0.6020 - val_loss: 0.6767 - val_accuracy: 0.5845 - val_auc: 0.7871\n",
            "Epoch 2/5\n",
            "42/42 [==============================] - 1s 15ms/step - loss: 0.6683 - accuracy: 0.5761 - auc: 0.8090 - val_loss: 0.6604 - val_accuracy: 0.5933 - val_auc: 0.8332\n",
            "Epoch 3/5\n",
            "42/42 [==============================] - 1s 15ms/step - loss: 0.6482 - accuracy: 0.6057 - auc: 0.8795 - val_loss: 0.6435 - val_accuracy: 0.6305 - val_auc: 0.8435\n",
            "Epoch 4/5\n",
            "42/42 [==============================] - 1s 13ms/step - loss: 0.6261 - accuracy: 0.6553 - auc: 0.8964 - val_loss: 0.6242 - val_accuracy: 0.6747 - val_auc: 0.8474\n",
            "Epoch 5/5\n",
            "42/42 [==============================] - 1s 13ms/step - loss: 0.5999 - accuracy: 0.7153 - auc: 0.9017 - val_loss: 0.6031 - val_accuracy: 0.7158 - val_auc: 0.8502\n",
            "\n",
            "RNN with dropout rate: 0.35 batch_size: 128 nodes: 16\n"
          ]
        },
        {
          "output_type": "stream",
          "name": "stderr",
          "text": [
            "WARNING:tensorflow:Layer gru_18 will not use cuDNN kernels since it doesn't meet the criteria. It will use a generic GPU kernel as fallback when running on GPU.\n"
          ]
        },
        {
          "output_type": "stream",
          "name": "stdout",
          "text": [
            "Epoch 1/5\n",
            "42/42 [==============================] - 6s 42ms/step - loss: 0.6845 - accuracy: 0.5703 - auc: 0.6132 - val_loss: 0.6716 - val_accuracy: 0.5889 - val_auc: 0.8212\n",
            "Epoch 2/5\n",
            "42/42 [==============================] - 1s 15ms/step - loss: 0.6584 - accuracy: 0.5999 - auc: 0.8386 - val_loss: 0.6458 - val_accuracy: 0.6283 - val_auc: 0.8444\n",
            "Epoch 3/5\n",
            "42/42 [==============================] - 1s 14ms/step - loss: 0.6251 - accuracy: 0.6562 - auc: 0.8813 - val_loss: 0.6141 - val_accuracy: 0.6926 - val_auc: 0.8501\n",
            "Epoch 4/5\n",
            "42/42 [==============================] - 1s 15ms/step - loss: 0.5810 - accuracy: 0.7439 - auc: 0.8935 - val_loss: 0.5771 - val_accuracy: 0.7557 - val_auc: 0.8537\n",
            "Epoch 5/5\n",
            "42/42 [==============================] - 1s 13ms/step - loss: 0.5322 - accuracy: 0.7992 - auc: 0.9043 - val_loss: 0.5408 - val_accuracy: 0.7846 - val_auc: 0.8538\n"
          ]
        },
        {
          "output_type": "stream",
          "name": "stderr",
          "text": [
            "WARNING:tensorflow:Layer gru_19 will not use cuDNN kernels since it doesn't meet the criteria. It will use a generic GPU kernel as fallback when running on GPU.\n"
          ]
        },
        {
          "output_type": "stream",
          "name": "stdout",
          "text": [
            "\n",
            "RNN with dropout rate: 0.35 batch_size: 128 nodes: 64\n",
            "Epoch 1/5\n",
            "42/42 [==============================] - 4s 29ms/step - loss: 0.6722 - accuracy: 0.5845 - auc: 0.6636 - val_loss: 0.6444 - val_accuracy: 0.6353 - val_auc: 0.8420\n",
            "Epoch 2/5\n",
            "42/42 [==============================] - 1s 15ms/step - loss: 0.6097 - accuracy: 0.6921 - auc: 0.8790 - val_loss: 0.5864 - val_accuracy: 0.7417 - val_auc: 0.8511\n",
            "Epoch 3/5\n",
            "42/42 [==============================] - 1s 13ms/step - loss: 0.5343 - accuracy: 0.7958 - auc: 0.8905 - val_loss: 0.5260 - val_accuracy: 0.7929 - val_auc: 0.8545\n",
            "Epoch 4/5\n",
            "42/42 [==============================] - 1s 14ms/step - loss: 0.4591 - accuracy: 0.8260 - auc: 0.9052 - val_loss: 0.4842 - val_accuracy: 0.8004 - val_auc: 0.8559\n",
            "Epoch 5/5\n",
            "42/42 [==============================] - 1s 13ms/step - loss: 0.4049 - accuracy: 0.8469 - auc: 0.9170 - val_loss: 0.4619 - val_accuracy: 0.7999 - val_auc: 0.8558\n"
          ]
        },
        {
          "output_type": "stream",
          "name": "stderr",
          "text": [
            "WARNING:tensorflow:Layer gru_20 will not use cuDNN kernels since it doesn't meet the criteria. It will use a generic GPU kernel as fallback when running on GPU.\n"
          ]
        },
        {
          "output_type": "stream",
          "name": "stdout",
          "text": [
            "\n",
            "RNN with dropout rate: 0.5 batch_size: 1 nodes: 4\n",
            "Epoch 1/5\n",
            "5329/5329 [==============================] - 41s 7ms/step - loss: 0.6150 - accuracy: 0.6596 - auc: 0.7342 - val_loss: 0.5015 - val_accuracy: 0.7815 - val_auc: 0.8424\n",
            "Epoch 2/5\n",
            "5329/5329 [==============================] - 38s 7ms/step - loss: 0.4766 - accuracy: 0.7831 - auc: 0.8458 - val_loss: 0.4599 - val_accuracy: 0.7877 - val_auc: 0.8522\n",
            "Epoch 3/5\n",
            "5329/5329 [==============================] - 40s 7ms/step - loss: 0.4192 - accuracy: 0.8118 - auc: 0.8820 - val_loss: 0.4552 - val_accuracy: 0.7955 - val_auc: 0.8518\n",
            "Epoch 4/5\n",
            "5329/5329 [==============================] - 40s 8ms/step - loss: 0.4015 - accuracy: 0.8257 - auc: 0.8928 - val_loss: 0.4610 - val_accuracy: 0.7907 - val_auc: 0.8495\n",
            "Epoch 5/5\n",
            "5329/5329 [==============================] - 40s 8ms/step - loss: 0.3734 - accuracy: 0.8394 - auc: 0.9075 - val_loss: 0.4658 - val_accuracy: 0.7920 - val_auc: 0.8505\n"
          ]
        },
        {
          "output_type": "stream",
          "name": "stderr",
          "text": [
            "WARNING:tensorflow:Layer gru_21 will not use cuDNN kernels since it doesn't meet the criteria. It will use a generic GPU kernel as fallback when running on GPU.\n"
          ]
        },
        {
          "output_type": "stream",
          "name": "stdout",
          "text": [
            "\n",
            "RNN with dropout rate: 0.5 batch_size: 1 nodes: 16\n",
            "Epoch 1/5\n",
            "5329/5329 [==============================] - 43s 8ms/step - loss: 0.5812 - accuracy: 0.6964 - auc: 0.7547 - val_loss: 0.4781 - val_accuracy: 0.7828 - val_auc: 0.8445\n",
            "Epoch 2/5\n",
            "5329/5329 [==============================] - 40s 7ms/step - loss: 0.4580 - accuracy: 0.7911 - auc: 0.8581 - val_loss: 0.4606 - val_accuracy: 0.7933 - val_auc: 0.8499\n",
            "Epoch 3/5\n",
            "5329/5329 [==============================] - 35s 7ms/step - loss: 0.4132 - accuracy: 0.8150 - auc: 0.8859 - val_loss: 0.4603 - val_accuracy: 0.7912 - val_auc: 0.8500\n",
            "Epoch 4/5\n",
            "5329/5329 [==============================] - 36s 7ms/step - loss: 0.3817 - accuracy: 0.8296 - auc: 0.9026 - val_loss: 0.4581 - val_accuracy: 0.7885 - val_auc: 0.8515\n",
            "Epoch 5/5\n",
            "5329/5329 [==============================] - 40s 7ms/step - loss: 0.3680 - accuracy: 0.8409 - auc: 0.9106 - val_loss: 0.4677 - val_accuracy: 0.7877 - val_auc: 0.8504\n"
          ]
        },
        {
          "output_type": "stream",
          "name": "stderr",
          "text": [
            "WARNING:tensorflow:Layer gru_22 will not use cuDNN kernels since it doesn't meet the criteria. It will use a generic GPU kernel as fallback when running on GPU.\n"
          ]
        },
        {
          "output_type": "stream",
          "name": "stdout",
          "text": [
            "\n",
            "RNN with dropout rate: 0.5 batch_size: 1 nodes: 64\n",
            "Epoch 1/5\n",
            "5329/5329 [==============================] - 38s 7ms/step - loss: 0.5693 - accuracy: 0.7074 - auc: 0.7612 - val_loss: 0.4799 - val_accuracy: 0.7868 - val_auc: 0.8373\n",
            "Epoch 2/5\n",
            "5329/5329 [==============================] - 34s 6ms/step - loss: 0.4605 - accuracy: 0.7964 - auc: 0.8533 - val_loss: 0.4635 - val_accuracy: 0.7916 - val_auc: 0.8476\n",
            "Epoch 3/5\n",
            "5329/5329 [==============================] - 39s 7ms/step - loss: 0.4122 - accuracy: 0.8176 - auc: 0.8861 - val_loss: 0.4612 - val_accuracy: 0.7951 - val_auc: 0.8470\n",
            "Epoch 4/5\n",
            "5329/5329 [==============================] - 36s 7ms/step - loss: 0.3847 - accuracy: 0.8289 - auc: 0.9009 - val_loss: 0.4649 - val_accuracy: 0.7877 - val_auc: 0.8451\n",
            "Epoch 5/5\n",
            "5329/5329 [==============================] - 34s 6ms/step - loss: 0.3715 - accuracy: 0.8382 - auc: 0.9079 - val_loss: 0.4632 - val_accuracy: 0.7890 - val_auc: 0.8478\n"
          ]
        },
        {
          "output_type": "stream",
          "name": "stderr",
          "text": [
            "WARNING:tensorflow:Layer gru_23 will not use cuDNN kernels since it doesn't meet the criteria. It will use a generic GPU kernel as fallback when running on GPU.\n"
          ]
        },
        {
          "output_type": "stream",
          "name": "stdout",
          "text": [
            "\n",
            "RNN with dropout rate: 0.5 batch_size: 32 nodes: 4\n",
            "Epoch 1/5\n",
            "167/167 [==============================] - 5s 15ms/step - loss: 0.6773 - accuracy: 0.5727 - auc: 0.6253 - val_loss: 0.6578 - val_accuracy: 0.5985 - val_auc: 0.8278\n",
            "Epoch 2/5\n",
            "167/167 [==============================] - 2s 12ms/step - loss: 0.6355 - accuracy: 0.6350 - auc: 0.8344 - val_loss: 0.6133 - val_accuracy: 0.6970 - val_auc: 0.8416\n",
            "Epoch 3/5\n",
            "167/167 [==============================] - 4s 22ms/step - loss: 0.5740 - accuracy: 0.7467 - auc: 0.8627 - val_loss: 0.5582 - val_accuracy: 0.7653 - val_auc: 0.8473\n",
            "Epoch 4/5\n",
            "167/167 [==============================] - 2s 11ms/step - loss: 0.5111 - accuracy: 0.7908 - auc: 0.8782 - val_loss: 0.5139 - val_accuracy: 0.7907 - val_auc: 0.8509\n",
            "Epoch 5/5\n",
            "167/167 [==============================] - 2s 11ms/step - loss: 0.4711 - accuracy: 0.8039 - auc: 0.8815 - val_loss: 0.4874 - val_accuracy: 0.7920 - val_auc: 0.8522\n"
          ]
        },
        {
          "output_type": "stream",
          "name": "stderr",
          "text": [
            "WARNING:tensorflow:Layer gru_24 will not use cuDNN kernels since it doesn't meet the criteria. It will use a generic GPU kernel as fallback when running on GPU.\n"
          ]
        },
        {
          "output_type": "stream",
          "name": "stdout",
          "text": [
            "\n",
            "RNN with dropout rate: 0.5 batch_size: 32 nodes: 16\n",
            "Epoch 1/5\n",
            "167/167 [==============================] - 5s 15ms/step - loss: 0.6672 - accuracy: 0.5907 - auc: 0.6744 - val_loss: 0.6310 - val_accuracy: 0.6708 - val_auc: 0.8390\n",
            "Epoch 2/5\n",
            "167/167 [==============================] - 2s 12ms/step - loss: 0.5836 - accuracy: 0.7335 - auc: 0.8394 - val_loss: 0.5406 - val_accuracy: 0.7837 - val_auc: 0.8511\n",
            "Epoch 3/5\n",
            "167/167 [==============================] - 2s 12ms/step - loss: 0.4903 - accuracy: 0.7951 - auc: 0.8691 - val_loss: 0.4874 - val_accuracy: 0.7912 - val_auc: 0.8527\n",
            "Epoch 4/5\n",
            "167/167 [==============================] - 3s 18ms/step - loss: 0.4327 - accuracy: 0.8155 - auc: 0.8874 - val_loss: 0.4623 - val_accuracy: 0.7938 - val_auc: 0.8518\n",
            "Epoch 5/5\n",
            "167/167 [==============================] - 3s 16ms/step - loss: 0.3942 - accuracy: 0.8302 - auc: 0.9037 - val_loss: 0.4546 - val_accuracy: 0.7894 - val_auc: 0.8535\n"
          ]
        },
        {
          "output_type": "stream",
          "name": "stderr",
          "text": [
            "WARNING:tensorflow:Layer gru_25 will not use cuDNN kernels since it doesn't meet the criteria. It will use a generic GPU kernel as fallback when running on GPU.\n"
          ]
        },
        {
          "output_type": "stream",
          "name": "stdout",
          "text": [
            "\n",
            "RNN with dropout rate: 0.5 batch_size: 32 nodes: 64\n",
            "Epoch 1/5\n",
            "167/167 [==============================] - 7s 15ms/step - loss: 0.6494 - accuracy: 0.6243 - auc: 0.7133 - val_loss: 0.5781 - val_accuracy: 0.7417 - val_auc: 0.8443\n",
            "Epoch 2/5\n",
            "167/167 [==============================] - 2s 12ms/step - loss: 0.5109 - accuracy: 0.7784 - auc: 0.8466 - val_loss: 0.4781 - val_accuracy: 0.7859 - val_auc: 0.8519\n",
            "Epoch 3/5\n",
            "167/167 [==============================] - 2s 11ms/step - loss: 0.4333 - accuracy: 0.8077 - auc: 0.8768 - val_loss: 0.4570 - val_accuracy: 0.7912 - val_auc: 0.8505\n",
            "Epoch 4/5\n",
            "167/167 [==============================] - 2s 11ms/step - loss: 0.4007 - accuracy: 0.8185 - auc: 0.8938 - val_loss: 0.4599 - val_accuracy: 0.7903 - val_auc: 0.8479\n",
            "Epoch 5/5\n",
            "167/167 [==============================] - 2s 12ms/step - loss: 0.3662 - accuracy: 0.8369 - auc: 0.9119 - val_loss: 0.4666 - val_accuracy: 0.7877 - val_auc: 0.8466\n"
          ]
        },
        {
          "output_type": "stream",
          "name": "stderr",
          "text": [
            "WARNING:tensorflow:Layer gru_26 will not use cuDNN kernels since it doesn't meet the criteria. It will use a generic GPU kernel as fallback when running on GPU.\n"
          ]
        },
        {
          "output_type": "stream",
          "name": "stdout",
          "text": [
            "\n",
            "RNN with dropout rate: 0.5 batch_size: 128 nodes: 4\n",
            "Epoch 1/5\n",
            "42/42 [==============================] - 5s 44ms/step - loss: 0.6880 - accuracy: 0.5673 - auc: 0.5733 - val_loss: 0.6800 - val_accuracy: 0.5806 - val_auc: 0.7765\n",
            "Epoch 2/5\n",
            "42/42 [==============================] - 1s 25ms/step - loss: 0.6741 - accuracy: 0.5737 - auc: 0.7671 - val_loss: 0.6667 - val_accuracy: 0.5832 - val_auc: 0.8318\n",
            "Epoch 3/5\n",
            "42/42 [==============================] - 1s 13ms/step - loss: 0.6586 - accuracy: 0.5830 - auc: 0.8456 - val_loss: 0.6523 - val_accuracy: 0.5994 - val_auc: 0.8436\n",
            "Epoch 4/5\n",
            "42/42 [==============================] - 1s 16ms/step - loss: 0.6402 - accuracy: 0.6185 - auc: 0.8754 - val_loss: 0.6363 - val_accuracy: 0.6379 - val_auc: 0.8482\n",
            "Epoch 5/5\n",
            "42/42 [==============================] - 1s 14ms/step - loss: 0.6204 - accuracy: 0.6615 - auc: 0.8802 - val_loss: 0.6182 - val_accuracy: 0.6830 - val_auc: 0.8488\n"
          ]
        },
        {
          "output_type": "stream",
          "name": "stderr",
          "text": [
            "WARNING:tensorflow:Layer gru_27 will not use cuDNN kernels since it doesn't meet the criteria. It will use a generic GPU kernel as fallback when running on GPU.\n"
          ]
        },
        {
          "output_type": "stream",
          "name": "stdout",
          "text": [
            "\n",
            "RNN with dropout rate: 0.5 batch_size: 128 nodes: 16\n",
            "Epoch 1/5\n",
            "42/42 [==============================] - 5s 43ms/step - loss: 0.6823 - accuracy: 0.5813 - auc: 0.6204 - val_loss: 0.6682 - val_accuracy: 0.5841 - val_auc: 0.8075\n",
            "Epoch 2/5\n",
            "42/42 [==============================] - 1s 25ms/step - loss: 0.6560 - accuracy: 0.5945 - auc: 0.8246 - val_loss: 0.6431 - val_accuracy: 0.6283 - val_auc: 0.8378\n",
            "Epoch 3/5\n",
            "42/42 [==============================] - 1s 23ms/step - loss: 0.6233 - accuracy: 0.6585 - auc: 0.8603 - val_loss: 0.6129 - val_accuracy: 0.6988 - val_auc: 0.8455\n",
            "Epoch 4/5\n",
            "42/42 [==============================] - 1s 16ms/step - loss: 0.5825 - accuracy: 0.7414 - auc: 0.8730 - val_loss: 0.5796 - val_accuracy: 0.7566 - val_auc: 0.8492\n",
            "Epoch 5/5\n",
            "42/42 [==============================] - 1s 15ms/step - loss: 0.5417 - accuracy: 0.7844 - auc: 0.8825 - val_loss: 0.5463 - val_accuracy: 0.7732 - val_auc: 0.8516\n"
          ]
        },
        {
          "output_type": "stream",
          "name": "stderr",
          "text": [
            "WARNING:tensorflow:Layer gru_28 will not use cuDNN kernels since it doesn't meet the criteria. It will use a generic GPU kernel as fallback when running on GPU.\n"
          ]
        },
        {
          "output_type": "stream",
          "name": "stdout",
          "text": [
            "\n",
            "RNN with dropout rate: 0.5 batch_size: 128 nodes: 64\n",
            "Epoch 1/5\n",
            "42/42 [==============================] - 4s 32ms/step - loss: 0.6739 - accuracy: 0.5836 - auc: 0.6490 - val_loss: 0.6494 - val_accuracy: 0.6173 - val_auc: 0.8315\n",
            "Epoch 2/5\n",
            "42/42 [==============================] - 1s 22ms/step - loss: 0.6220 - accuracy: 0.6645 - auc: 0.8472 - val_loss: 0.5993 - val_accuracy: 0.7320 - val_auc: 0.8437\n",
            "Epoch 3/5\n",
            "42/42 [==============================] - 1s 23ms/step - loss: 0.5556 - accuracy: 0.7651 - auc: 0.8639 - val_loss: 0.5432 - val_accuracy: 0.7894 - val_auc: 0.8499\n",
            "Epoch 4/5\n",
            "42/42 [==============================] - 1s 24ms/step - loss: 0.4911 - accuracy: 0.8030 - auc: 0.8819 - val_loss: 0.4984 - val_accuracy: 0.7986 - val_auc: 0.8528\n",
            "Epoch 5/5\n",
            "42/42 [==============================] - 1s 22ms/step - loss: 0.4413 - accuracy: 0.8193 - auc: 0.8927 - val_loss: 0.4736 - val_accuracy: 0.8012 - val_auc: 0.8534\n"
          ]
        },
        {
          "output_type": "stream",
          "name": "stderr",
          "text": [
            "WARNING:tensorflow:Layer gru_29 will not use cuDNN kernels since it doesn't meet the criteria. It will use a generic GPU kernel as fallback when running on GPU.\n"
          ]
        },
        {
          "output_type": "stream",
          "name": "stdout",
          "text": [
            "\n",
            "RNN with dropout rate: 0.65 batch_size: 1 nodes: 4\n",
            "Epoch 1/5\n",
            "5329/5329 [==============================] - 42s 7ms/step - loss: 0.6433 - accuracy: 0.6299 - auc: 0.6842 - val_loss: 0.5465 - val_accuracy: 0.7771 - val_auc: 0.8352\n",
            "Epoch 2/5\n",
            "5329/5329 [==============================] - 39s 7ms/step - loss: 0.5259 - accuracy: 0.7527 - auc: 0.8099 - val_loss: 0.4748 - val_accuracy: 0.7990 - val_auc: 0.8452\n",
            "Epoch 3/5\n",
            "5329/5329 [==============================] - 34s 6ms/step - loss: 0.4731 - accuracy: 0.7825 - auc: 0.8493 - val_loss: 0.4560 - val_accuracy: 0.8012 - val_auc: 0.8529\n",
            "Epoch 4/5\n",
            "5329/5329 [==============================] - 40s 7ms/step - loss: 0.4601 - accuracy: 0.7985 - auc: 0.8580 - val_loss: 0.4559 - val_accuracy: 0.8004 - val_auc: 0.8517\n",
            "Epoch 5/5\n",
            "5329/5329 [==============================] - 39s 7ms/step - loss: 0.4380 - accuracy: 0.8024 - auc: 0.8710 - val_loss: 0.4546 - val_accuracy: 0.7990 - val_auc: 0.8513\n"
          ]
        },
        {
          "output_type": "stream",
          "name": "stderr",
          "text": [
            "WARNING:tensorflow:Layer gru_30 will not use cuDNN kernels since it doesn't meet the criteria. It will use a generic GPU kernel as fallback when running on GPU.\n"
          ]
        },
        {
          "output_type": "stream",
          "name": "stdout",
          "text": [
            "\n",
            "RNN with dropout rate: 0.65 batch_size: 1 nodes: 16\n",
            "Epoch 1/5\n",
            "5329/5329 [==============================] - 42s 8ms/step - loss: 0.6131 - accuracy: 0.6727 - auc: 0.7175 - val_loss: 0.5003 - val_accuracy: 0.7806 - val_auc: 0.8376\n",
            "Epoch 2/5\n",
            "5329/5329 [==============================] - 40s 7ms/step - loss: 0.5034 - accuracy: 0.7632 - auc: 0.8217 - val_loss: 0.4671 - val_accuracy: 0.7890 - val_auc: 0.8443\n",
            "Epoch 3/5\n",
            "5329/5329 [==============================] - 36s 7ms/step - loss: 0.4703 - accuracy: 0.7836 - auc: 0.8513 - val_loss: 0.4610 - val_accuracy: 0.7925 - val_auc: 0.8482\n",
            "Epoch 4/5\n",
            "5329/5329 [==============================] - 39s 7ms/step - loss: 0.4489 - accuracy: 0.8026 - auc: 0.8668 - val_loss: 0.4630 - val_accuracy: 0.7938 - val_auc: 0.8490\n",
            "Epoch 5/5\n",
            "5329/5329 [==============================] - 39s 7ms/step - loss: 0.4262 - accuracy: 0.8159 - auc: 0.8800 - val_loss: 0.4588 - val_accuracy: 0.7855 - val_auc: 0.8502\n"
          ]
        },
        {
          "output_type": "stream",
          "name": "stderr",
          "text": [
            "WARNING:tensorflow:Layer gru_31 will not use cuDNN kernels since it doesn't meet the criteria. It will use a generic GPU kernel as fallback when running on GPU.\n"
          ]
        },
        {
          "output_type": "stream",
          "name": "stdout",
          "text": [
            "\n",
            "RNN with dropout rate: 0.65 batch_size: 1 nodes: 64\n",
            "Epoch 1/5\n",
            "5329/5329 [==============================] - 37s 6ms/step - loss: 0.6034 - accuracy: 0.6772 - auc: 0.7194 - val_loss: 0.4957 - val_accuracy: 0.7960 - val_auc: 0.8442\n",
            "Epoch 2/5\n",
            "5329/5329 [==============================] - 35s 7ms/step - loss: 0.5053 - accuracy: 0.7639 - auc: 0.8239 - val_loss: 0.4736 - val_accuracy: 0.7968 - val_auc: 0.8482\n",
            "Epoch 3/5\n",
            "5329/5329 [==============================] - 39s 7ms/step - loss: 0.4683 - accuracy: 0.7861 - auc: 0.8513 - val_loss: 0.4622 - val_accuracy: 0.7973 - val_auc: 0.8486\n",
            "Epoch 4/5\n",
            "5329/5329 [==============================] - 34s 6ms/step - loss: 0.4588 - accuracy: 0.7904 - auc: 0.8592 - val_loss: 0.4598 - val_accuracy: 0.7973 - val_auc: 0.8492\n",
            "Epoch 5/5\n",
            "5329/5329 [==============================] - 35s 7ms/step - loss: 0.4157 - accuracy: 0.8161 - auc: 0.8845 - val_loss: 0.4613 - val_accuracy: 0.7938 - val_auc: 0.8478\n"
          ]
        },
        {
          "output_type": "stream",
          "name": "stderr",
          "text": [
            "WARNING:tensorflow:Layer gru_32 will not use cuDNN kernels since it doesn't meet the criteria. It will use a generic GPU kernel as fallback when running on GPU.\n"
          ]
        },
        {
          "output_type": "stream",
          "name": "stdout",
          "text": [
            "\n",
            "RNN with dropout rate: 0.65 batch_size: 32 nodes: 4\n",
            "Epoch 1/5\n",
            "167/167 [==============================] - 5s 15ms/step - loss: 0.6833 - accuracy: 0.5643 - auc: 0.5719 - val_loss: 0.6684 - val_accuracy: 0.5806 - val_auc: 0.8157\n",
            "Epoch 2/5\n",
            "167/167 [==============================] - 2s 11ms/step - loss: 0.6545 - accuracy: 0.5995 - auc: 0.7792 - val_loss: 0.6355 - val_accuracy: 0.6265 - val_auc: 0.8411\n",
            "Epoch 3/5\n",
            "167/167 [==============================] - 2s 12ms/step - loss: 0.6137 - accuracy: 0.6795 - auc: 0.8152 - val_loss: 0.5905 - val_accuracy: 0.7356 - val_auc: 0.8485\n",
            "Epoch 4/5\n",
            "167/167 [==============================] - 4s 21ms/step - loss: 0.5591 - accuracy: 0.7476 - auc: 0.8422 - val_loss: 0.5449 - val_accuracy: 0.7846 - val_auc: 0.8532\n",
            "Epoch 5/5\n",
            "167/167 [==============================] - 2s 12ms/step - loss: 0.5180 - accuracy: 0.7741 - auc: 0.8484 - val_loss: 0.5115 - val_accuracy: 0.7933 - val_auc: 0.8544\n"
          ]
        },
        {
          "output_type": "stream",
          "name": "stderr",
          "text": [
            "WARNING:tensorflow:Layer gru_33 will not use cuDNN kernels since it doesn't meet the criteria. It will use a generic GPU kernel as fallback when running on GPU.\n"
          ]
        },
        {
          "output_type": "stream",
          "name": "stdout",
          "text": [
            "\n",
            "RNN with dropout rate: 0.65 batch_size: 32 nodes: 16\n",
            "Epoch 1/5\n",
            "167/167 [==============================] - 6s 15ms/step - loss: 0.6772 - accuracy: 0.5703 - auc: 0.6005 - val_loss: 0.6539 - val_accuracy: 0.5950 - val_auc: 0.8280\n",
            "Epoch 2/5\n",
            "167/167 [==============================] - 2s 12ms/step - loss: 0.6201 - accuracy: 0.6602 - auc: 0.8067 - val_loss: 0.5824 - val_accuracy: 0.7329 - val_auc: 0.8421\n",
            "Epoch 3/5\n",
            "167/167 [==============================] - 2s 11ms/step - loss: 0.5406 - accuracy: 0.7530 - auc: 0.8334 - val_loss: 0.5133 - val_accuracy: 0.7833 - val_auc: 0.8484\n",
            "Epoch 4/5\n",
            "167/167 [==============================] - 2s 12ms/step - loss: 0.4914 - accuracy: 0.7767 - auc: 0.8479 - val_loss: 0.4776 - val_accuracy: 0.7907 - val_auc: 0.8540\n",
            "Epoch 5/5\n",
            "167/167 [==============================] - 3s 18ms/step - loss: 0.4561 - accuracy: 0.7840 - auc: 0.8643 - val_loss: 0.4609 - val_accuracy: 0.7968 - val_auc: 0.8548\n"
          ]
        },
        {
          "output_type": "stream",
          "name": "stderr",
          "text": [
            "WARNING:tensorflow:Layer gru_34 will not use cuDNN kernels since it doesn't meet the criteria. It will use a generic GPU kernel as fallback when running on GPU.\n"
          ]
        },
        {
          "output_type": "stream",
          "name": "stdout",
          "text": [
            "\n",
            "RNN with dropout rate: 0.65 batch_size: 32 nodes: 64\n",
            "Epoch 1/5\n",
            "167/167 [==============================] - 7s 20ms/step - loss: 0.6588 - accuracy: 0.6072 - auc: 0.6727 - val_loss: 0.6057 - val_accuracy: 0.6944 - val_auc: 0.8347\n",
            "Epoch 2/5\n",
            "167/167 [==============================] - 2s 11ms/step - loss: 0.5511 - accuracy: 0.7409 - auc: 0.8104 - val_loss: 0.5027 - val_accuracy: 0.7890 - val_auc: 0.8445\n",
            "Epoch 3/5\n",
            "167/167 [==============================] - 2s 11ms/step - loss: 0.4882 - accuracy: 0.7703 - auc: 0.8396 - val_loss: 0.4757 - val_accuracy: 0.7903 - val_auc: 0.8455\n",
            "Epoch 4/5\n",
            "167/167 [==============================] - 2s 11ms/step - loss: 0.4586 - accuracy: 0.7880 - auc: 0.8574 - val_loss: 0.4692 - val_accuracy: 0.7837 - val_auc: 0.8443\n",
            "Epoch 5/5\n",
            "167/167 [==============================] - 2s 11ms/step - loss: 0.4390 - accuracy: 0.7970 - auc: 0.8698 - val_loss: 0.4675 - val_accuracy: 0.7820 - val_auc: 0.8437\n"
          ]
        },
        {
          "output_type": "stream",
          "name": "stderr",
          "text": [
            "WARNING:tensorflow:Layer gru_35 will not use cuDNN kernels since it doesn't meet the criteria. It will use a generic GPU kernel as fallback when running on GPU.\n"
          ]
        },
        {
          "output_type": "stream",
          "name": "stdout",
          "text": [
            "\n",
            "RNN with dropout rate: 0.65 batch_size: 128 nodes: 4\n",
            "Epoch 1/5\n",
            "42/42 [==============================] - 8s 44ms/step - loss: 0.6878 - accuracy: 0.5699 - auc: 0.5715 - val_loss: 0.6807 - val_accuracy: 0.5806 - val_auc: 0.7616\n",
            "Epoch 2/5\n",
            "42/42 [==============================] - 1s 13ms/step - loss: 0.6758 - accuracy: 0.5729 - auc: 0.7228 - val_loss: 0.6686 - val_accuracy: 0.5806 - val_auc: 0.8240\n",
            "Epoch 3/5\n",
            "42/42 [==============================] - 1s 17ms/step - loss: 0.6624 - accuracy: 0.5834 - auc: 0.8083 - val_loss: 0.6563 - val_accuracy: 0.5898 - val_auc: 0.8400\n",
            "Epoch 4/5\n",
            "42/42 [==============================] - 1s 15ms/step - loss: 0.6479 - accuracy: 0.6076 - auc: 0.8312 - val_loss: 0.6427 - val_accuracy: 0.6195 - val_auc: 0.8488\n",
            "Epoch 5/5\n",
            "42/42 [==============================] - 1s 15ms/step - loss: 0.6294 - accuracy: 0.6543 - auc: 0.8526 - val_loss: 0.6273 - val_accuracy: 0.6576 - val_auc: 0.8510\n"
          ]
        },
        {
          "output_type": "stream",
          "name": "stderr",
          "text": [
            "WARNING:tensorflow:Layer gru_36 will not use cuDNN kernels since it doesn't meet the criteria. It will use a generic GPU kernel as fallback when running on GPU.\n"
          ]
        },
        {
          "output_type": "stream",
          "name": "stdout",
          "text": [
            "\n",
            "RNN with dropout rate: 0.65 batch_size: 128 nodes: 16\n",
            "Epoch 1/5\n",
            "42/42 [==============================] - 4s 29ms/step - loss: 0.6858 - accuracy: 0.5637 - auc: 0.5760 - val_loss: 0.6741 - val_accuracy: 0.5806 - val_auc: 0.7995\n",
            "Epoch 2/5\n",
            "42/42 [==============================] - 1s 13ms/step - loss: 0.6656 - accuracy: 0.5847 - auc: 0.7625 - val_loss: 0.6542 - val_accuracy: 0.6020 - val_auc: 0.8356\n",
            "Epoch 3/5\n",
            "42/42 [==============================] - 1s 15ms/step - loss: 0.6406 - accuracy: 0.6283 - auc: 0.8306 - val_loss: 0.6301 - val_accuracy: 0.6480 - val_auc: 0.8452\n",
            "Epoch 4/5\n",
            "42/42 [==============================] - 1s 14ms/step - loss: 0.6095 - accuracy: 0.6840 - auc: 0.8445 - val_loss: 0.6016 - val_accuracy: 0.7229 - val_auc: 0.8501\n",
            "Epoch 5/5\n",
            "42/42 [==============================] - 1s 16ms/step - loss: 0.5783 - accuracy: 0.7452 - auc: 0.8425 - val_loss: 0.5711 - val_accuracy: 0.7706 - val_auc: 0.8531\n"
          ]
        },
        {
          "output_type": "stream",
          "name": "stderr",
          "text": [
            "WARNING:tensorflow:Layer gru_37 will not use cuDNN kernels since it doesn't meet the criteria. It will use a generic GPU kernel as fallback when running on GPU.\n"
          ]
        },
        {
          "output_type": "stream",
          "name": "stdout",
          "text": [
            "\n",
            "RNN with dropout rate: 0.65 batch_size: 128 nodes: 64\n",
            "Epoch 1/5\n",
            "42/42 [==============================] - 5s 29ms/step - loss: 0.6769 - accuracy: 0.5853 - auc: 0.6139 - val_loss: 0.6554 - val_accuracy: 0.6007 - val_auc: 0.8227\n",
            "Epoch 2/5\n",
            "42/42 [==============================] - 1s 15ms/step - loss: 0.6339 - accuracy: 0.6446 - auc: 0.8121 - val_loss: 0.6127 - val_accuracy: 0.7032 - val_auc: 0.8413\n",
            "Epoch 3/5\n",
            "42/42 [==============================] - 1s 14ms/step - loss: 0.5789 - accuracy: 0.7363 - auc: 0.8355 - val_loss: 0.5603 - val_accuracy: 0.7644 - val_auc: 0.8478\n",
            "Epoch 4/5\n",
            "42/42 [==============================] - 1s 15ms/step - loss: 0.5286 - accuracy: 0.7679 - auc: 0.8463 - val_loss: 0.5171 - val_accuracy: 0.7925 - val_auc: 0.8528\n",
            "Epoch 5/5\n",
            "42/42 [==============================] - 1s 15ms/step - loss: 0.4901 - accuracy: 0.7855 - auc: 0.8563 - val_loss: 0.4885 - val_accuracy: 0.7990 - val_auc: 0.8545\n"
          ]
        }
      ]
    },
    {
      "cell_type": "markdown",
      "source": [
        "The grid search reveals several trends about the performance of RNNs as specified. One takeaway is that RNN's take time (more than 5 epochs) to fit will when batch_size>>nodes. Another thing of note is that the higher dropout rates tended to provide better performance due to reducing the problem of overfitting. Lastly, we note that the RNN with a dropout rate of 65%, batch size of 1, and 4 nodes likely yields the best perofrmance as it couples high AUC with multiple epochs that have accuracy over 80%."
      ],
      "metadata": {
        "id": "Q_Aw7MmtBFXc"
      }
    },
    {
      "cell_type": "code",
      "source": [
        "best = Sequential()\n",
        "best.add(GRU(4, return_sequences=True, dropout=0.65, recurrent_dropout=0.65, input_shape=(train_matrix.shape[1], train_matrix.shape[2])))\n",
        "best.add(Dense(1, activation = 'sigmoid'))\n",
        "\n",
        "best.compile(loss='binary_crossentropy', optimizer='adam', metrics=['accuracy', tensorflow.keras.metrics.AUC(name='auc')])\n",
        "best_hist = model.fit(train_matrix, train_y, epochs = 4, batch_size=1, validation_data=(val_matrix, val_y))"
      ],
      "metadata": {
        "colab": {
          "base_uri": "https://localhost:8080/"
        },
        "id": "35bI8nCjCKWl",
        "outputId": "c0bc6272-8c19-49e9-c9cb-432fc7807665"
      },
      "execution_count": 45,
      "outputs": [
        {
          "output_type": "stream",
          "name": "stderr",
          "text": [
            "WARNING:tensorflow:Layer gru_53 will not use cuDNN kernels since it doesn't meet the criteria. It will use a generic GPU kernel as fallback when running on GPU.\n"
          ]
        },
        {
          "output_type": "stream",
          "name": "stdout",
          "text": [
            "Epoch 1/4\n",
            "5329/5329 [==============================] - 36s 7ms/step - loss: 0.4563 - accuracy: 0.7956 - auc: 0.8598 - val_loss: 0.4567 - val_accuracy: 0.7995 - val_auc: 0.8496\n",
            "Epoch 2/4\n",
            "5329/5329 [==============================] - 37s 7ms/step - loss: 0.4466 - accuracy: 0.7975 - auc: 0.8636 - val_loss: 0.4547 - val_accuracy: 0.7947 - val_auc: 0.8499\n",
            "Epoch 3/4\n",
            "5329/5329 [==============================] - 41s 8ms/step - loss: 0.4444 - accuracy: 0.7960 - auc: 0.8688 - val_loss: 0.4586 - val_accuracy: 0.7986 - val_auc: 0.8493\n",
            "Epoch 4/4\n",
            "5329/5329 [==============================] - 41s 8ms/step - loss: 0.4423 - accuracy: 0.8077 - auc: 0.8660 - val_loss: 0.4549 - val_accuracy: 0.7955 - val_auc: 0.8505\n"
          ]
        }
      ]
    },
    {
      "cell_type": "markdown",
      "source": [
        "### Scoring on Test Dataset\n",
        "Vectorizing the test data, scoring the vectorized data, and preparing for kaggle submission."
      ],
      "metadata": {
        "id": "OJ3aXupNiyus"
      }
    },
    {
      "cell_type": "code",
      "source": [
        "test_tfidf = tfidf.transform(test.text)\n",
        "test_tfidf = np.array(test_tfidf.todense())\n",
        "print(\"Shape of embedded test data:\", test_tfidf.shape)"
      ],
      "metadata": {
        "colab": {
          "base_uri": "https://localhost:8080/"
        },
        "id": "JqktOIamiQ5b",
        "outputId": "602af480-5997-47c7-f682-4543ecc2cc92"
      },
      "execution_count": 46,
      "outputs": [
        {
          "output_type": "stream",
          "name": "stdout",
          "text": [
            "Shape of embedded test data: (3263, 4987)\n"
          ]
        }
      ]
    },
    {
      "cell_type": "code",
      "source": [
        "test_matrix = np.reshape(test_tfidf, (-1, 1, test_tfidf.shape[1]))\n",
        "print(\"Shape of test matrix\", test_matrix.shape)"
      ],
      "metadata": {
        "colab": {
          "base_uri": "https://localhost:8080/"
        },
        "id": "EmqcaABHib6A",
        "outputId": "740bc905-5be6-4b17-8392-c3d413d774ec"
      },
      "execution_count": 47,
      "outputs": [
        {
          "output_type": "stream",
          "name": "stdout",
          "text": [
            "Shape of test matrix (3263, 1, 4987)\n"
          ]
        }
      ]
    },
    {
      "cell_type": "code",
      "source": [
        "test_probabilities = best.predict(test_matrix)"
      ],
      "metadata": {
        "colab": {
          "base_uri": "https://localhost:8080/"
        },
        "id": "_BOAp0z7i-Zc",
        "outputId": "0e956a01-5b85-407e-d630-1adc7fc1f8c7"
      },
      "execution_count": 48,
      "outputs": [
        {
          "output_type": "stream",
          "name": "stdout",
          "text": [
            "102/102 [==============================] - 1s 3ms/step\n"
          ]
        }
      ]
    },
    {
      "cell_type": "code",
      "source": [
        "test_labels = np.round(test_probabilities).astype(int)\n",
        "\n",
        "output = pd.DataFrame()\n",
        "output['id'] = test.id\n",
        "output['target'] = test_labels.reshape(-1, 1)"
      ],
      "metadata": {
        "id": "qq-WGN6_jOHb"
      },
      "execution_count": 49,
      "outputs": []
    },
    {
      "cell_type": "code",
      "source": [
        "output.to_csv('test_labels.csv')\n",
        "files.download('test_labels.csv')"
      ],
      "metadata": {
        "colab": {
          "base_uri": "https://localhost:8080/",
          "height": 17
        },
        "id": "0jT_nafHjRYj",
        "outputId": "c61b192a-c9f1-49dc-93a5-6efbd3f06de1"
      },
      "execution_count": 50,
      "outputs": [
        {
          "output_type": "display_data",
          "data": {
            "text/plain": [
              "<IPython.core.display.Javascript object>"
            ],
            "application/javascript": [
              "\n",
              "    async function download(id, filename, size) {\n",
              "      if (!google.colab.kernel.accessAllowed) {\n",
              "        return;\n",
              "      }\n",
              "      const div = document.createElement('div');\n",
              "      const label = document.createElement('label');\n",
              "      label.textContent = `Downloading \"${filename}\": `;\n",
              "      div.appendChild(label);\n",
              "      const progress = document.createElement('progress');\n",
              "      progress.max = size;\n",
              "      div.appendChild(progress);\n",
              "      document.body.appendChild(div);\n",
              "\n",
              "      const buffers = [];\n",
              "      let downloaded = 0;\n",
              "\n",
              "      const channel = await google.colab.kernel.comms.open(id);\n",
              "      // Send a message to notify the kernel that we're ready.\n",
              "      channel.send({})\n",
              "\n",
              "      for await (const message of channel.messages) {\n",
              "        // Send a message to notify the kernel that we're ready.\n",
              "        channel.send({})\n",
              "        if (message.buffers) {\n",
              "          for (const buffer of message.buffers) {\n",
              "            buffers.push(buffer);\n",
              "            downloaded += buffer.byteLength;\n",
              "            progress.value = downloaded;\n",
              "          }\n",
              "        }\n",
              "      }\n",
              "      const blob = new Blob(buffers, {type: 'application/binary'});\n",
              "      const a = document.createElement('a');\n",
              "      a.href = window.URL.createObjectURL(blob);\n",
              "      a.download = filename;\n",
              "      div.appendChild(a);\n",
              "      a.click();\n",
              "      div.remove();\n",
              "    }\n",
              "  "
            ]
          },
          "metadata": {}
        },
        {
          "output_type": "display_data",
          "data": {
            "text/plain": [
              "<IPython.core.display.Javascript object>"
            ],
            "application/javascript": [
              "download(\"download_ccad6eec-f668-4547-8bfe-4a7d97b315e7\", \"test_labels.csv\", 37952)"
            ]
          },
          "metadata": {}
        }
      ]
    },
    {
      "cell_type": "markdown",
      "source": [
        "## Conclusion\n",
        "The results of our efforts to create a RNN that classifies tweets according to whether or not they are a weather disaster resulted in a model that yields an F1-Score of ~80% on test set.\n",
        "\n",
        "\\\\\n",
        "In the process we used NLP techniques like TF-IDF and also tried two different types of RNN layers with GRU and LSTM networks built. Once we honed in on GRU, we conducted a gridsearch which identified the best model in that search space. We also observed from the gridsearch that a 4:1 ratio of nodes:batch size seems to be a heuristic for more effective classifiers as opposed to other combinations we processed. The hyperparameters we focused on were batch size, number of nodes in a layer, and dropout rate. Dropout rate in particular was helpful as performance noticeably increased once we included dropouts to protect against over-fitting.\n",
        "\n",
        "\\\\\n",
        "If given more time it would have been intersting to expand the search space for the hyperparameters and consider other model architectures."
      ],
      "metadata": {
        "id": "p8-_JN3WR56Q"
      }
    }
  ]
}